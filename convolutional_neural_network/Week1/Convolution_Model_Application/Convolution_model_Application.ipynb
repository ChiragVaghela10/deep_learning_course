{
 "cells": [
  {
   "cell_type": "markdown",
   "metadata": {},
   "source": [
    "# Convolutional Neural Networks: Application\n",
    "\n",
    "Welcome to Course 4's second assignment! In this notebook, you will:\n",
    "\n",
    "- Create a mood classifer using the TF Keras Sequential API\n",
    "- Build a ConvNet to identify sign language digits using the TF Keras Functional API\n",
    "\n",
    "**After this assignment you will be able to:**\n",
    "\n",
    "- Build and train a ConvNet in TensorFlow for a __binary__ classification problem\n",
    "- Build and train a ConvNet in TensorFlow for a __multiclass__ classification problem\n",
    "- Explain different use cases for the Sequential and Functional APIs\n",
    "\n",
    "To complete this assignment, you should already be familiar with TensorFlow. If you are not, please refer back to the **TensorFlow Tutorial** of the third week of Course 2 (\"**Improving deep neural networks**\").\n",
    "\n",
    "## Important Note on Submission to the AutoGrader\n",
    "\n",
    "Before submitting your assignment to the AutoGrader, please make sure you are not doing the following:\n",
    "\n",
    "1. You have not added any _extra_ `print` statement(s) in the assignment.\n",
    "2. You have not added any _extra_ code cell(s) in the assignment.\n",
    "3. You have not changed any of the function parameters.\n",
    "4. You are not using any global variables inside your graded exercises. Unless specifically instructed to do so, please refrain from it and use the local variables instead.\n",
    "5. You are not changing the assignment code where it is not required, like creating _extra_ variables.\n",
    "\n",
    "If you do any of the following, you will get something like, `Grader Error: Grader feedback not found` (or similarly unexpected) error upon submitting your assignment. Before asking for help/debugging the errors in your assignment, check for these first. If this is the case, and you don't remember the changes you have made, you can get a fresh copy of the assignment by following these [instructions](https://www.coursera.org/learn/convolutional-neural-networks/supplement/DS4yP/h-ow-to-refresh-your-workspace)."
   ]
  },
  {
   "cell_type": "markdown",
   "metadata": {},
   "source": [
    "## Table of Contents\n",
    "\n",
    "- [1 - Packages](#1)\n",
    "    - [1.1 - Load the Data and Split the Data into Train/Test Sets](#1-1)\n",
    "- [2 - Layers in TF Keras](#2)\n",
    "- [3 - The Sequential API](#3)\n",
    "    - [3.1 - Create the Sequential Model](#3-1)\n",
    "        - [Exercise 1 - happyModel](#ex-1)\n",
    "    - [3.2 - Train and Evaluate the Model](#3-2)\n",
    "- [4 - The Functional API](#4)\n",
    "    - [4.1 - Load the SIGNS Dataset](#4-1)\n",
    "    - [4.2 - Split the Data into Train/Test Sets](#4-2)\n",
    "    - [4.3 - Forward Propagation](#4-3)\n",
    "        - [Exercise 2 - convolutional_model](#ex-2)\n",
    "    - [4.4 - Train the Model](#4-4)\n",
    "- [5 - History Object](#5)\n",
    "- [6 - Bibliography](#6)"
   ]
  },
  {
   "cell_type": "markdown",
   "metadata": {},
   "source": [
    "<a name='1'></a>\n",
    "## 1 - Packages\n",
    "\n",
    "As usual, begin by loading in the packages."
   ]
  },
  {
   "cell_type": "code",
   "metadata": {
    "deletable": false,
    "editable": false,
    "ExecuteTime": {
     "end_time": "2024-12-23T01:45:33.775034Z",
     "start_time": "2024-12-23T01:45:33.760311Z"
    }
   },
   "source": [
    "### v1.1"
   ],
   "outputs": [],
   "execution_count": 1
  },
  {
   "cell_type": "code",
   "metadata": {
    "ExecuteTime": {
     "end_time": "2024-12-23T15:06:00.472590Z",
     "start_time": "2024-12-23T15:05:43.014746Z"
    }
   },
   "source": [
    "import math\n",
    "import numpy as np\n",
    "import h5py\n",
    "import matplotlib.pyplot as plt\n",
    "from matplotlib.pyplot import imread\n",
    "import scipy\n",
    "from PIL import Image\n",
    "import pandas as pd\n",
    "import tensorflow as tf\n",
    "import tensorflow.keras.layers as tfl\n",
    "from tensorflow.python.framework import ops\n",
    "from cnn_utils import *\n",
    "from test_utils import summary, comparator\n",
    "\n",
    "%matplotlib inline\n",
    "np.random.seed(1)"
   ],
   "outputs": [],
   "execution_count": 3
  },
  {
   "cell_type": "markdown",
   "metadata": {},
   "source": [
    "<a name='1-1'></a>\n",
    "### 1.1 - Load the Data and Split the Data into Train/Test Sets\n",
    "\n",
    "You'll be using the Happy House dataset for this part of the assignment, which contains images of peoples' faces. Your task will be to build a ConvNet that determines whether the people in the images are smiling or not -- because they only get to enter the house if they're smiling!  "
   ]
  },
  {
   "cell_type": "code",
   "metadata": {
    "ExecuteTime": {
     "end_time": "2024-12-23T15:08:14.820794Z",
     "start_time": "2024-12-23T15:08:14.787858Z"
    }
   },
   "source": [
    "X_train_orig, Y_train_orig, X_test_orig, Y_test_orig, classes = load_happy_dataset()\n",
    "\n",
    "# Normalize image vectors\n",
    "X_train = X_train_orig/255.\n",
    "X_test = X_test_orig/255.\n",
    "\n",
    "# Reshape\n",
    "Y_train = Y_train_orig.T\n",
    "Y_test = Y_test_orig.T\n",
    "\n",
    "print (\"number of training examples = \" + str(X_train.shape[0]))\n",
    "print (\"number of test examples = \" + str(X_test.shape[0]))\n",
    "print (\"X_train shape: \" + str(X_train.shape))\n",
    "print (\"Y_train shape: \" + str(Y_train.shape))\n",
    "print (\"X_test shape: \" + str(X_test.shape))\n",
    "print (\"Y_test shape: \" + str(Y_test.shape))"
   ],
   "outputs": [
    {
     "name": "stdout",
     "output_type": "stream",
     "text": [
      "number of training examples = 600\n",
      "number of test examples = 150\n",
      "X_train shape: (600, 64, 64, 3)\n",
      "Y_train shape: (600, 1)\n",
      "X_test shape: (150, 64, 64, 3)\n",
      "Y_test shape: (150, 1)\n"
     ]
    }
   ],
   "execution_count": 14
  },
  {
   "cell_type": "markdown",
   "metadata": {},
   "source": [
    "You can display the images contained in the dataset. Images are **64x64** pixels in RGB format (3 channels)."
   ]
  },
  {
   "cell_type": "code",
   "metadata": {
    "ExecuteTime": {
     "end_time": "2024-12-23T15:08:20.010583Z",
     "start_time": "2024-12-23T15:08:19.962425Z"
    }
   },
   "source": [
    "index = 124\n",
    "plt.imshow(X_train_orig[index]) #display sample training image\n",
    "plt.show()"
   ],
   "outputs": [
    {
     "data": {
      "text/plain": [
       "<Figure size 640x480 with 1 Axes>"
      ],
      "image/png": "[encoded data removed]"
     },
     "metadata": {},
     "output_type": "display_data"
    }
   ],
   "execution_count": 15
  },
  {
   "cell_type": "markdown",
   "metadata": {},
   "source": [
    "<a name='2'></a>\n",
    "## 2 - Layers in TF Keras \n",
    "\n",
    "In the previous assignment, you created layers manually in numpy. In TF Keras, you don't have to write code directly to create layers. Rather, TF Keras has pre-defined layers you can use. \n",
    "\n",
    "When you create a layer in TF Keras, you are creating a function that takes some input and transforms it into an output you can reuse later. Nice and easy! "
   ]
  },
  {
   "cell_type": "markdown",
   "metadata": {},
   "source": [
    "<a name='3'></a>\n",
    "## 3 - The Sequential API\n",
    "\n",
    "In the previous assignment, you built helper functions using `numpy` to understand the mechanics behind convolutional neural networks. Most practical applications of deep learning today are built using programming frameworks, which have many built-in functions you can simply call. Keras is a high-level abstraction built on top of TensorFlow, which allows for even more simplified and optimized model creation and training. \n",
    "\n",
    "For the first part of this assignment, you'll create a model using TF Keras' Sequential API, which allows you to build layer by layer, and is ideal for building models where each layer has **exactly one** input tensor and **one** output tensor. \n",
    "\n",
    "As you'll see, using the Sequential API is simple and straightforward, but is only appropriate for simpler, more straightforward tasks. Later in this notebook you'll spend some time building with a more flexible, powerful alternative: the Functional API. \n",
    " "
   ]
  },
  {
   "cell_type": "markdown",
   "metadata": {},
   "source": [
    "<a name='3-1'></a>\n",
    "### 3.1 - Create the Sequential Model\n",
    "\n",
    "As mentioned earlier, the TensorFlow Keras Sequential API can be used to build simple models with layer operations that proceed in a sequential order. \n",
    "\n",
    "You can also add layers incrementally to a Sequential model with the `.add()` method, or remove them using the `.pop()` method, much like you would in a regular Python list.\n",
    "\n",
    "Actually, you can think of a Sequential model as behaving like a list of layers. Like Python lists, Sequential layers are ordered, and the order in which they are specified matters.  If your model is non-linear or contains layers with multiple inputs or outputs, a Sequential model wouldn't be the right choice!\n",
    "\n",
    "For any layer construction in Keras, you'll need to specify the input shape in advance. This is because in Keras, the shape of the weights is based on the shape of the inputs. The weights are only created when the model first sees some input data. Sequential models can be created by passing a list of layers to the Sequential constructor, like you will do in the next assignment.\n",
    "\n",
    "<a name='ex-1'></a>\n",
    "### Exercise 1 - happyModel\n",
    "\n",
    "Implement the `happyModel` function below to build the following model: `ZEROPAD2D -> CONV2D -> BATCHNORM -> RELU -> MAXPOOL -> FLATTEN -> DENSE`. Take help from [tf.keras.layers](https://www.tensorflow.org/api_docs/python/tf/keras/layers) \n",
    "\n",
    "Also, plug in the following parameters for all the steps:\n",
    "\n",
    " - [ZeroPadding2D](https://www.tensorflow.org/api_docs/python/tf/keras/layers/ZeroPadding2D): padding 3, input shape 64 x 64 x 3\n",
    " - [Conv2D](https://www.tensorflow.org/api_docs/python/tf/keras/layers/Conv2D): Use 32 7x7 filters, stride 1\n",
    " - [BatchNormalization](https://www.tensorflow.org/api_docs/python/tf/keras/layers/BatchNormalization): for axis 3\n",
    " - [ReLU](https://www.tensorflow.org/api_docs/python/tf/keras/layers/ReLU)\n",
    " - [MaxPool2D](https://www.tensorflow.org/api_docs/python/tf/keras/layers/MaxPool2D): Using default parameters\n",
    " - [Flatten](https://www.tensorflow.org/api_docs/python/tf/keras/layers/Flatten) the previous output.\n",
    " - Fully-connected ([Dense](https://www.tensorflow.org/api_docs/python/tf/keras/layers/Dense)) layer: Apply a fully connected layer with 1 neuron and a sigmoid activation. \n",
    " \n",
    " \n",
    " **Hint:**\n",
    " \n",
    " Use **tfl** as shorthand for **tensorflow.keras.layers**"
   ]
  },
  {
   "cell_type": "code",
   "metadata": {
    "deletable": false,
    "nbgrader": {
     "cell_type": "code",
     "checksum": "95d28b191f257bdd5b70c7b8952559d5",
     "grade": false,
     "grade_id": "cell-0e56d3fc28b69aec",
     "locked": false,
     "schema_version": 3,
     "solution": true,
     "task": false
    },
    "ExecuteTime": {
     "end_time": "2024-12-23T15:08:28.190069Z",
     "start_time": "2024-12-23T15:08:28.175969Z"
    }
   },
   "source": [
    "# GRADED FUNCTION: happyModel\n",
    "\n",
    "def happyModel():\n",
    "    \"\"\"\n",
    "    Implements the forward propagation for the binary classification model:\n",
    "    ZEROPAD2D -> CONV2D -> BATCHNORM -> RELU -> MAXPOOL -> FLATTEN -> DENSE\n",
    "    \n",
    "    Note that for simplicity and grading purposes, you'll hard-code all the values\n",
    "    such as the stride and kernel (filter) sizes. \n",
    "    Normally, functions should take these values as function parameters.\n",
    "    \n",
    "    Arguments:\n",
    "    None\n",
    "\n",
    "    Returns:\n",
    "    model -- TF Keras model (object containing the information for the entire training process) \n",
    "    \"\"\"\n",
    "    model = tf.keras.Sequential([\n",
    "            # YOUR CODE STARTS HERE\n",
    "        \n",
    "            # ZeroPadding2D with padding 3, input shape of 64 x 64 x 3\n",
    "            # Conv2D with 32 7x7 filters and stride of 1\n",
    "            # BatchNormalization for axis 3\n",
    "            # ReLU\n",
    "            # Max Pooling 2D with default parameters\n",
    "            # Flatten layer\n",
    "            # Dense layer with 1 unit for output & 'sigmoid' activation\n",
    "            tfl.ZeroPadding2D(padding=(3,3), input_shape=(64, 64, 3), data_format=\"channels_last\"),\n",
    "            tfl.Conv2D(filters=32, kernel_size=(7,7), strides=1),\n",
    "            tfl.BatchNormalization(axis=3),\n",
    "            tfl.ReLU(),\n",
    "            tfl.MaxPool2D(),\n",
    "            tfl.Flatten(),\n",
    "            tfl.Dense(units=1, activation='sigmoid')\n",
    "        \n",
    "            # YOUR CODE ENDS HERE\n",
    "        ])\n",
    "    \n",
    "    return model"
   ],
   "outputs": [],
   "execution_count": 16
  },
  {
   "cell_type": "code",
   "metadata": {
    "deletable": false,
    "editable": false,
    "nbgrader": {
     "cell_type": "code",
     "checksum": "8d3575c950e2e78149be2d05d671c80d",
     "grade": true,
     "grade_id": "cell-e3e1046e5c33d775",
     "locked": true,
     "points": 10,
     "schema_version": 3,
     "solution": false,
     "task": false
    },
    "ExecuteTime": {
     "end_time": "2024-12-23T15:08:30.480387Z",
     "start_time": "2024-12-23T15:08:30.430632Z"
    }
   },
   "source": [
    "happy_model = happyModel()\n",
    "# Print a summary for each layer\n",
    "for layer in summary(happy_model):\n",
    "    print(layer)\n",
    "    \n",
    "output = [['ZeroPadding2D', (None, 70, 70, 3), 0, ((3, 3), (3, 3))],\n",
    "            ['Conv2D', (None, 64, 64, 32), 4736, 'valid', 'linear', 'GlorotUniform'],\n",
    "            ['BatchNormalization', (None, 64, 64, 32), 128],\n",
    "            ['ReLU', (None, 64, 64, 32), 0],\n",
    "            ['MaxPooling2D', (None, 32, 32, 32), 0, (2, 2), (2, 2), 'valid'],\n",
    "            ['Flatten', (None, 32768), 0],\n",
    "            ['Dense', (None, 1), 32769, 'sigmoid']]\n",
    "    \n",
    "comparator(summary(happy_model), output)"
   ],
   "outputs": [
    {
     "name": "stderr",
     "output_type": "stream",
     "text": [
      "C:\\Users\\vach04\\PycharmProjects\\deep_learning_course\\.venv\\Lib\\site-packages\\keras\\src\\layers\\reshaping\\zero_padding2d.py:72: UserWarning: Do not pass an `input_shape`/`input_dim` argument to a layer. When using Sequential models, prefer using an `Input(shape)` object as the first layer in the model instead.\n",
      "  super().__init__(**kwargs)\n"
     ]
    },
    {
     "ename": "AttributeError",
     "evalue": "'ZeroPadding2D' object has no attribute 'output_shape'",
     "output_type": "error",
     "traceback": [
      "\u001B[1;31m---------------------------------------------------------------------------\u001B[0m",
      "\u001B[1;31mAttributeError\u001B[0m                            Traceback (most recent call last)",
      "Cell \u001B[1;32mIn[17], line 3\u001B[0m\n\u001B[0;32m      1\u001B[0m happy_model \u001B[38;5;241m=\u001B[39m happyModel()\n\u001B[0;32m      2\u001B[0m \u001B[38;5;66;03m# Print a summary for each layer\u001B[39;00m\n\u001B[1;32m----> 3\u001B[0m \u001B[38;5;28;01mfor\u001B[39;00m layer \u001B[38;5;129;01min\u001B[39;00m \u001B[43msummary\u001B[49m\u001B[43m(\u001B[49m\u001B[43mhappy_model\u001B[49m\u001B[43m)\u001B[49m:\n\u001B[0;32m      4\u001B[0m     \u001B[38;5;28mprint\u001B[39m(layer)\n\u001B[0;32m      6\u001B[0m output \u001B[38;5;241m=\u001B[39m [[\u001B[38;5;124m'\u001B[39m\u001B[38;5;124mZeroPadding2D\u001B[39m\u001B[38;5;124m'\u001B[39m, (\u001B[38;5;28;01mNone\u001B[39;00m, \u001B[38;5;241m70\u001B[39m, \u001B[38;5;241m70\u001B[39m, \u001B[38;5;241m3\u001B[39m), \u001B[38;5;241m0\u001B[39m, ((\u001B[38;5;241m3\u001B[39m, \u001B[38;5;241m3\u001B[39m), (\u001B[38;5;241m3\u001B[39m, \u001B[38;5;241m3\u001B[39m))],\n\u001B[0;32m      7\u001B[0m             [\u001B[38;5;124m'\u001B[39m\u001B[38;5;124mConv2D\u001B[39m\u001B[38;5;124m'\u001B[39m, (\u001B[38;5;28;01mNone\u001B[39;00m, \u001B[38;5;241m64\u001B[39m, \u001B[38;5;241m64\u001B[39m, \u001B[38;5;241m32\u001B[39m), \u001B[38;5;241m4736\u001B[39m, \u001B[38;5;124m'\u001B[39m\u001B[38;5;124mvalid\u001B[39m\u001B[38;5;124m'\u001B[39m, \u001B[38;5;124m'\u001B[39m\u001B[38;5;124mlinear\u001B[39m\u001B[38;5;124m'\u001B[39m, \u001B[38;5;124m'\u001B[39m\u001B[38;5;124mGlorotUniform\u001B[39m\u001B[38;5;124m'\u001B[39m],\n\u001B[0;32m      8\u001B[0m             [\u001B[38;5;124m'\u001B[39m\u001B[38;5;124mBatchNormalization\u001B[39m\u001B[38;5;124m'\u001B[39m, (\u001B[38;5;28;01mNone\u001B[39;00m, \u001B[38;5;241m64\u001B[39m, \u001B[38;5;241m64\u001B[39m, \u001B[38;5;241m32\u001B[39m), \u001B[38;5;241m128\u001B[39m],\n\u001B[1;32m   (...)\u001B[0m\n\u001B[0;32m     11\u001B[0m             [\u001B[38;5;124m'\u001B[39m\u001B[38;5;124mFlatten\u001B[39m\u001B[38;5;124m'\u001B[39m, (\u001B[38;5;28;01mNone\u001B[39;00m, \u001B[38;5;241m32768\u001B[39m), \u001B[38;5;241m0\u001B[39m],\n\u001B[0;32m     12\u001B[0m             [\u001B[38;5;124m'\u001B[39m\u001B[38;5;124mDense\u001B[39m\u001B[38;5;124m'\u001B[39m, (\u001B[38;5;28;01mNone\u001B[39;00m, \u001B[38;5;241m1\u001B[39m), \u001B[38;5;241m32769\u001B[39m, \u001B[38;5;124m'\u001B[39m\u001B[38;5;124msigmoid\u001B[39m\u001B[38;5;124m'\u001B[39m]]\n",
      "File \u001B[1;32m~\\PycharmProjects\\deep_learning_course\\convolutional_neural_network\\Week1\\Convolution_Model_Application\\test_utils.py:36\u001B[0m, in \u001B[0;36msummary\u001B[1;34m(model)\u001B[0m\n\u001B[0;32m     34\u001B[0m result \u001B[38;5;241m=\u001B[39m []\n\u001B[0;32m     35\u001B[0m \u001B[38;5;28;01mfor\u001B[39;00m layer \u001B[38;5;129;01min\u001B[39;00m model\u001B[38;5;241m.\u001B[39mlayers:\n\u001B[1;32m---> 36\u001B[0m     descriptors \u001B[38;5;241m=\u001B[39m [layer\u001B[38;5;241m.\u001B[39m\u001B[38;5;18m__class__\u001B[39m\u001B[38;5;241m.\u001B[39m\u001B[38;5;18m__name__\u001B[39m, \u001B[43mlayer\u001B[49m\u001B[38;5;241;43m.\u001B[39;49m\u001B[43moutput_shape\u001B[49m, layer\u001B[38;5;241m.\u001B[39mcount_params()]\n\u001B[0;32m     37\u001B[0m     \u001B[38;5;28;01mif\u001B[39;00m (\u001B[38;5;28mtype\u001B[39m(layer) \u001B[38;5;241m==\u001B[39m Conv2D):\n\u001B[0;32m     38\u001B[0m         descriptors\u001B[38;5;241m.\u001B[39mappend(layer\u001B[38;5;241m.\u001B[39mpadding)\n",
      "\u001B[1;31mAttributeError\u001B[0m: 'ZeroPadding2D' object has no attribute 'output_shape'"
     ]
    }
   ],
   "execution_count": 17
  },
  {
   "cell_type": "markdown",
   "metadata": {},
   "source": [
    "#### Expected Output:\n",
    "\n",
    "```\n",
    "['ZeroPadding2D', (None, 70, 70, 3), 0, ((3, 3), (3, 3))]\n",
    "['Conv2D', (None, 64, 64, 32), 4736, 'valid', 'linear', 'GlorotUniform']\n",
    "['BatchNormalization', (None, 64, 64, 32), 128]\n",
    "['ReLU', (None, 64, 64, 32), 0]\n",
    "['MaxPooling2D', (None, 32, 32, 32), 0, (2, 2), (2, 2), 'valid']\n",
    "['Flatten', (None, 32768), 0]\n",
    "['Dense', (None, 1), 32769, 'sigmoid']\n",
    "All tests passed!\n",
    "```"
   ]
  },
  {
   "cell_type": "markdown",
   "metadata": {},
   "source": [
    "Now that your model is created, you can compile it for training with an optimizer and loss of your choice. When the string `accuracy` is specified as a metric, the type of accuracy used will be automatically converted based on the loss function used. This is one of the many optimizations built into TensorFlow that make your life easier! If you'd like to read more on how the compiler operates, check the docs [here](https://www.tensorflow.org/api_docs/python/tf/keras/Model#compile)."
   ]
  },
  {
   "cell_type": "code",
   "metadata": {
    "ExecuteTime": {
     "end_time": "2024-12-23T15:08:36.743468Z",
     "start_time": "2024-12-23T15:08:36.733423Z"
    }
   },
   "source": [
    "happy_model.compile(optimizer='adam',\n",
    "                   loss='binary_crossentropy',\n",
    "                   metrics=['accuracy'])"
   ],
   "outputs": [],
   "execution_count": 18
  },
  {
   "cell_type": "markdown",
   "metadata": {},
   "source": [
    "It's time to check your model's parameters with the `.summary()` method. This will display the types of layers you have, the shape of the outputs, and how many parameters are in each layer. "
   ]
  },
  {
   "cell_type": "code",
   "metadata": {
    "ExecuteTime": {
     "end_time": "2024-12-23T15:08:46.934775Z",
     "start_time": "2024-12-23T15:08:46.920546Z"
    }
   },
   "source": [
    "happy_model.summary()"
   ],
   "outputs": [
    {
     "data": {
      "text/plain": [
       "\u001B[1mModel: \"sequential\"\u001B[0m\n"
      ],
      "text/html": [
       "<pre style=\"white-space:pre;overflow-x:auto;line-height:normal;font-family:Menlo,'DejaVu Sans Mono',consolas,'Courier New',monospace\"><span style=\"font-weight: bold\">Model: \"sequential\"</span>\n",
       "</pre>\n"
      ]
     },
     "metadata": {},
     "output_type": "display_data"
    },
    {
     "data": {
      "text/plain": [
       "┏━━━━━━━━━━━━━━━━━━━━━━━━━━━━━━━━━┳━━━━━━━━━━━━━━━━━━━━━━━━┳━━━━━━━━━━━━━━━┓\n",
       "┃\u001B[1m \u001B[0m\u001B[1mLayer (type)                   \u001B[0m\u001B[1m \u001B[0m┃\u001B[1m \u001B[0m\u001B[1mOutput Shape          \u001B[0m\u001B[1m \u001B[0m┃\u001B[1m \u001B[0m\u001B[1m      Param #\u001B[0m\u001B[1m \u001B[0m┃\n",
       "┡━━━━━━━━━━━━━━━━━━━━━━━━━━━━━━━━━╇━━━━━━━━━━━━━━━━━━━━━━━━╇━━━━━━━━━━━━━━━┩\n",
       "│ zero_padding2d (\u001B[38;5;33mZeroPadding2D\u001B[0m)  │ (\u001B[38;5;45mNone\u001B[0m, \u001B[38;5;34m70\u001B[0m, \u001B[38;5;34m70\u001B[0m, \u001B[38;5;34m3\u001B[0m)      │             \u001B[38;5;34m0\u001B[0m │\n",
       "├─────────────────────────────────┼────────────────────────┼───────────────┤\n",
       "│ conv2d_3 (\u001B[38;5;33mConv2D\u001B[0m)               │ (\u001B[38;5;45mNone\u001B[0m, \u001B[38;5;34m64\u001B[0m, \u001B[38;5;34m64\u001B[0m, \u001B[38;5;34m32\u001B[0m)     │         \u001B[38;5;34m4,736\u001B[0m │\n",
       "├─────────────────────────────────┼────────────────────────┼───────────────┤\n",
       "│ batch_normalization             │ (\u001B[38;5;45mNone\u001B[0m, \u001B[38;5;34m64\u001B[0m, \u001B[38;5;34m64\u001B[0m, \u001B[38;5;34m32\u001B[0m)     │           \u001B[38;5;34m128\u001B[0m │\n",
       "│ (\u001B[38;5;33mBatchNormalization\u001B[0m)            │                        │               │\n",
       "├─────────────────────────────────┼────────────────────────┼───────────────┤\n",
       "│ re_lu_3 (\u001B[38;5;33mReLU\u001B[0m)                  │ (\u001B[38;5;45mNone\u001B[0m, \u001B[38;5;34m64\u001B[0m, \u001B[38;5;34m64\u001B[0m, \u001B[38;5;34m32\u001B[0m)     │             \u001B[38;5;34m0\u001B[0m │\n",
       "├─────────────────────────────────┼────────────────────────┼───────────────┤\n",
       "│ max_pooling2d_2 (\u001B[38;5;33mMaxPooling2D\u001B[0m)  │ (\u001B[38;5;45mNone\u001B[0m, \u001B[38;5;34m32\u001B[0m, \u001B[38;5;34m32\u001B[0m, \u001B[38;5;34m32\u001B[0m)     │             \u001B[38;5;34m0\u001B[0m │\n",
       "├─────────────────────────────────┼────────────────────────┼───────────────┤\n",
       "│ flatten_1 (\u001B[38;5;33mFlatten\u001B[0m)             │ (\u001B[38;5;45mNone\u001B[0m, \u001B[38;5;34m32768\u001B[0m)          │             \u001B[38;5;34m0\u001B[0m │\n",
       "├─────────────────────────────────┼────────────────────────┼───────────────┤\n",
       "│ dense_1 (\u001B[38;5;33mDense\u001B[0m)                 │ (\u001B[38;5;45mNone\u001B[0m, \u001B[38;5;34m1\u001B[0m)              │        \u001B[38;5;34m32,769\u001B[0m │\n",
       "└─────────────────────────────────┴────────────────────────┴───────────────┘\n"
      ],
      "text/html": [
       "<pre style=\"white-space:pre;overflow-x:auto;line-height:normal;font-family:Menlo,'DejaVu Sans Mono',consolas,'Courier New',monospace\">┏━━━━━━━━━━━━━━━━━━━━━━━━━━━━━━━━━┳━━━━━━━━━━━━━━━━━━━━━━━━┳━━━━━━━━━━━━━━━┓\n",
       "┃<span style=\"font-weight: bold\"> Layer (type)                    </span>┃<span style=\"font-weight: bold\"> Output Shape           </span>┃<span style=\"font-weight: bold\">       Param # </span>┃\n",
       "┡━━━━━━━━━━━━━━━━━━━━━━━━━━━━━━━━━╇━━━━━━━━━━━━━━━━━━━━━━━━╇━━━━━━━━━━━━━━━┩\n",
       "│ zero_padding2d (<span style=\"color: #0087ff; text-decoration-color: #0087ff\">ZeroPadding2D</span>)  │ (<span style=\"color: #00d7ff; text-decoration-color: #00d7ff\">None</span>, <span style=\"color: #00af00; text-decoration-color: #00af00\">70</span>, <span style=\"color: #00af00; text-decoration-color: #00af00\">70</span>, <span style=\"color: #00af00; text-decoration-color: #00af00\">3</span>)      │             <span style=\"color: #00af00; text-decoration-color: #00af00\">0</span> │\n",
       "├─────────────────────────────────┼────────────────────────┼───────────────┤\n",
       "│ conv2d_3 (<span style=\"color: #0087ff; text-decoration-color: #0087ff\">Conv2D</span>)               │ (<span style=\"color: #00d7ff; text-decoration-color: #00d7ff\">None</span>, <span style=\"color: #00af00; text-decoration-color: #00af00\">64</span>, <span style=\"color: #00af00; text-decoration-color: #00af00\">64</span>, <span style=\"color: #00af00; text-decoration-color: #00af00\">32</span>)     │         <span style=\"color: #00af00; text-decoration-color: #00af00\">4,736</span> │\n",
       "├─────────────────────────────────┼────────────────────────┼───────────────┤\n",
       "│ batch_normalization             │ (<span style=\"color: #00d7ff; text-decoration-color: #00d7ff\">None</span>, <span style=\"color: #00af00; text-decoration-color: #00af00\">64</span>, <span style=\"color: #00af00; text-decoration-color: #00af00\">64</span>, <span style=\"color: #00af00; text-decoration-color: #00af00\">32</span>)     │           <span style=\"color: #00af00; text-decoration-color: #00af00\">128</span> │\n",
       "│ (<span style=\"color: #0087ff; text-decoration-color: #0087ff\">BatchNormalization</span>)            │                        │               │\n",
       "├─────────────────────────────────┼────────────────────────┼───────────────┤\n",
       "│ re_lu_3 (<span style=\"color: #0087ff; text-decoration-color: #0087ff\">ReLU</span>)                  │ (<span style=\"color: #00d7ff; text-decoration-color: #00d7ff\">None</span>, <span style=\"color: #00af00; text-decoration-color: #00af00\">64</span>, <span style=\"color: #00af00; text-decoration-color: #00af00\">64</span>, <span style=\"color: #00af00; text-decoration-color: #00af00\">32</span>)     │             <span style=\"color: #00af00; text-decoration-color: #00af00\">0</span> │\n",
       "├─────────────────────────────────┼────────────────────────┼───────────────┤\n",
       "│ max_pooling2d_2 (<span style=\"color: #0087ff; text-decoration-color: #0087ff\">MaxPooling2D</span>)  │ (<span style=\"color: #00d7ff; text-decoration-color: #00d7ff\">None</span>, <span style=\"color: #00af00; text-decoration-color: #00af00\">32</span>, <span style=\"color: #00af00; text-decoration-color: #00af00\">32</span>, <span style=\"color: #00af00; text-decoration-color: #00af00\">32</span>)     │             <span style=\"color: #00af00; text-decoration-color: #00af00\">0</span> │\n",
       "├─────────────────────────────────┼────────────────────────┼───────────────┤\n",
       "│ flatten_1 (<span style=\"color: #0087ff; text-decoration-color: #0087ff\">Flatten</span>)             │ (<span style=\"color: #00d7ff; text-decoration-color: #00d7ff\">None</span>, <span style=\"color: #00af00; text-decoration-color: #00af00\">32768</span>)          │             <span style=\"color: #00af00; text-decoration-color: #00af00\">0</span> │\n",
       "├─────────────────────────────────┼────────────────────────┼───────────────┤\n",
       "│ dense_1 (<span style=\"color: #0087ff; text-decoration-color: #0087ff\">Dense</span>)                 │ (<span style=\"color: #00d7ff; text-decoration-color: #00d7ff\">None</span>, <span style=\"color: #00af00; text-decoration-color: #00af00\">1</span>)              │        <span style=\"color: #00af00; text-decoration-color: #00af00\">32,769</span> │\n",
       "└─────────────────────────────────┴────────────────────────┴───────────────┘\n",
       "</pre>\n"
      ]
     },
     "metadata": {},
     "output_type": "display_data"
    },
    {
     "data": {
      "text/plain": [
       "\u001B[1m Total params: \u001B[0m\u001B[38;5;34m37,633\u001B[0m (147.00 KB)\n"
      ],
      "text/html": [
       "<pre style=\"white-space:pre;overflow-x:auto;line-height:normal;font-family:Menlo,'DejaVu Sans Mono',consolas,'Courier New',monospace\"><span style=\"font-weight: bold\"> Total params: </span><span style=\"color: #00af00; text-decoration-color: #00af00\">37,633</span> (147.00 KB)\n",
       "</pre>\n"
      ]
     },
     "metadata": {},
     "output_type": "display_data"
    },
    {
     "data": {
      "text/plain": [
       "\u001B[1m Trainable params: \u001B[0m\u001B[38;5;34m37,569\u001B[0m (146.75 KB)\n"
      ],
      "text/html": [
       "<pre style=\"white-space:pre;overflow-x:auto;line-height:normal;font-family:Menlo,'DejaVu Sans Mono',consolas,'Courier New',monospace\"><span style=\"font-weight: bold\"> Trainable params: </span><span style=\"color: #00af00; text-decoration-color: #00af00\">37,569</span> (146.75 KB)\n",
       "</pre>\n"
      ]
     },
     "metadata": {},
     "output_type": "display_data"
    },
    {
     "data": {
      "text/plain": [
       "\u001B[1m Non-trainable params: \u001B[0m\u001B[38;5;34m64\u001B[0m (256.00 B)\n"
      ],
      "text/html": [
       "<pre style=\"white-space:pre;overflow-x:auto;line-height:normal;font-family:Menlo,'DejaVu Sans Mono',consolas,'Courier New',monospace\"><span style=\"font-weight: bold\"> Non-trainable params: </span><span style=\"color: #00af00; text-decoration-color: #00af00\">64</span> (256.00 B)\n",
       "</pre>\n"
      ]
     },
     "metadata": {},
     "output_type": "display_data"
    }
   ],
   "execution_count": 19
  },
  {
   "cell_type": "markdown",
   "metadata": {},
   "source": [
    "<a name='3-2'></a>\n",
    "### 3.2 - Train and Evaluate the Model\n",
    "\n",
    "After creating the model, compiling it with your choice of optimizer and loss function, and doing a sanity check on its contents, you are now ready to build! \n",
    "\n",
    "Simply call `.fit()` to train. That's it! No need for mini-batching, saving, or complex backpropagation computations. That's all been done for you, as you're using a TensorFlow dataset with the batches specified already. You do have the option to specify epoch number or minibatch size if you like (for example, in the case of an un-batched dataset)."
   ]
  },
  {
   "cell_type": "code",
   "metadata": {
    "ExecuteTime": {
     "end_time": "2024-12-23T15:09:00.448053Z",
     "start_time": "2024-12-23T15:08:56.556281Z"
    }
   },
   "source": [
    "happy_model.fit(X_train, Y_train, epochs=10, batch_size=16)"
   ],
   "outputs": [
    {
     "name": "stdout",
     "output_type": "stream",
     "text": [
      "Epoch 1/10\n",
      "\u001B[1m38/38\u001B[0m \u001B[32m━━━━━━━━━━━━━━━━━━━━\u001B[0m\u001B[37m\u001B[0m \u001B[1m1s\u001B[0m 9ms/step - accuracy: 0.7034 - loss: 1.1143\n",
      "Epoch 2/10\n",
      "\u001B[1m38/38\u001B[0m \u001B[32m━━━━━━━━━━━━━━━━━━━━\u001B[0m\u001B[37m\u001B[0m \u001B[1m0s\u001B[0m 8ms/step - accuracy: 0.9361 - loss: 0.1832\n",
      "Epoch 3/10\n",
      "\u001B[1m38/38\u001B[0m \u001B[32m━━━━━━━━━━━━━━━━━━━━\u001B[0m\u001B[37m\u001B[0m \u001B[1m0s\u001B[0m 8ms/step - accuracy: 0.9576 - loss: 0.1248\n",
      "Epoch 4/10\n",
      "\u001B[1m38/38\u001B[0m \u001B[32m━━━━━━━━━━━━━━━━━━━━\u001B[0m\u001B[37m\u001B[0m \u001B[1m0s\u001B[0m 8ms/step - accuracy: 0.9442 - loss: 0.1359\n",
      "Epoch 5/10\n",
      "\u001B[1m38/38\u001B[0m \u001B[32m━━━━━━━━━━━━━━━━━━━━\u001B[0m\u001B[37m\u001B[0m \u001B[1m0s\u001B[0m 8ms/step - accuracy: 0.8670 - loss: 0.4221\n",
      "Epoch 6/10\n",
      "\u001B[1m38/38\u001B[0m \u001B[32m━━━━━━━━━━━━━━━━━━━━\u001B[0m\u001B[37m\u001B[0m \u001B[1m0s\u001B[0m 8ms/step - accuracy: 0.9656 - loss: 0.0993\n",
      "Epoch 7/10\n",
      "\u001B[1m38/38\u001B[0m \u001B[32m━━━━━━━━━━━━━━━━━━━━\u001B[0m\u001B[37m\u001B[0m \u001B[1m0s\u001B[0m 8ms/step - accuracy: 0.9594 - loss: 0.1261\n",
      "Epoch 8/10\n",
      "\u001B[1m38/38\u001B[0m \u001B[32m━━━━━━━━━━━━━━━━━━━━\u001B[0m\u001B[37m\u001B[0m \u001B[1m0s\u001B[0m 9ms/step - accuracy: 0.9837 - loss: 0.0564\n",
      "Epoch 9/10\n",
      "\u001B[1m38/38\u001B[0m \u001B[32m━━━━━━━━━━━━━━━━━━━━\u001B[0m\u001B[37m\u001B[0m \u001B[1m0s\u001B[0m 8ms/step - accuracy: 0.9796 - loss: 0.0463\n",
      "Epoch 10/10\n",
      "\u001B[1m38/38\u001B[0m \u001B[32m━━━━━━━━━━━━━━━━━━━━\u001B[0m\u001B[37m\u001B[0m \u001B[1m0s\u001B[0m 9ms/step - accuracy: 0.9809 - loss: 0.0404\n"
     ]
    },
    {
     "data": {
      "text/plain": [
       "<keras.src.callbacks.history.History at 0x27a6d70f440>"
      ]
     },
     "execution_count": 20,
     "metadata": {},
     "output_type": "execute_result"
    }
   ],
   "execution_count": 20
  },
  {
   "cell_type": "markdown",
   "metadata": {},
   "source": [
    "After that completes, just use `.evaluate()` to evaluate against your test set. This function will print the value of the loss function and the performance metrics specified during the compilation of the model. In this case, the `binary_crossentropy` and the `accuracy` respectively."
   ]
  },
  {
   "cell_type": "code",
   "metadata": {
    "ExecuteTime": {
     "end_time": "2024-12-23T15:09:04.845852Z",
     "start_time": "2024-12-23T15:09:04.704291Z"
    }
   },
   "source": [
    "happy_model.evaluate(X_test, Y_test)"
   ],
   "outputs": [
    {
     "name": "stdout",
     "output_type": "stream",
     "text": [
      "\u001B[1m5/5\u001B[0m \u001B[32m━━━━━━━━━━━━━━━━━━━━\u001B[0m\u001B[37m\u001B[0m \u001B[1m0s\u001B[0m 3ms/step - accuracy: 0.9514 - loss: 0.1294 \n"
     ]
    },
    {
     "data": {
      "text/plain": [
       "[0.12460680305957794, 0.9399999976158142]"
      ]
     },
     "execution_count": 21,
     "metadata": {},
     "output_type": "execute_result"
    }
   ],
   "execution_count": 21
  },
  {
   "cell_type": "markdown",
   "metadata": {},
   "source": [
    "Easy, right? But what if you need to build a model with shared layers, branches, or multiple inputs and outputs? This is where Sequential, with its beautifully simple yet limited functionality, won't be able to help you. \n",
    "\n",
    "Next up: Enter the Functional API, your slightly more complex, highly flexible friend.  "
   ]
  },
  {
   "cell_type": "markdown",
   "metadata": {},
   "source": [
    "<a name='4'></a>\n",
    "## 4 - The Functional API"
   ]
  },
  {
   "cell_type": "markdown",
   "metadata": {},
   "source": [
    "Welcome to the second half of the assignment, where you'll use Keras' flexible [Functional API](https://www.tensorflow.org/guide/keras/functional) to build a ConvNet that can differentiate between 6 sign language digits. \n",
    "\n",
    "The Functional API can handle models with non-linear topology, shared layers, as well as layers with multiple inputs or outputs. Imagine that, where the Sequential API requires the model to move in a linear fashion through its layers, the Functional API allows much more flexibility. Where Sequential is a straight line, a Functional model is a graph, where the nodes of the layers can connect in many more ways than one. \n",
    "\n",
    "In the visual example below, the one possible direction of the movement Sequential model is shown in contrast to a skip connection, which is just one of the many ways a Functional model can be constructed. A skip connection, as you might have guessed, skips some layer in the network and feeds the output to a later layer in the network. Don't worry, you'll be spending more time with skip connections very soon! "
   ]
  },
  {
   "cell_type": "markdown",
   "metadata": {},
   "source": [
    "<img src=\"images/seq_vs_func.png\" style=\"width:350px;height:200px;\">"
   ]
  },
  {
   "cell_type": "markdown",
   "metadata": {},
   "source": [
    "<a name='4-1'></a>\n",
    "### 4.1 - Load the SIGNS Dataset\n",
    "\n",
    "As a reminder, the SIGNS dataset is a collection of 6 signs representing numbers from 0 to 5."
   ]
  },
  {
   "cell_type": "code",
   "metadata": {
    "ExecuteTime": {
     "end_time": "2024-12-23T15:06:13.898657Z",
     "start_time": "2024-12-23T15:06:13.870876Z"
    }
   },
   "source": [
    "# Loading the data (signs)\n",
    "X_train_orig, Y_train_orig, X_test_orig, Y_test_orig, classes = load_signs_dataset()"
   ],
   "outputs": [],
   "execution_count": 4
  },
  {
   "cell_type": "markdown",
   "metadata": {},
   "source": [
    "<img src=\"images/SIGNS.png\" style=\"width:800px;height:300px;\">\n",
    "\n",
    "The next cell will show you an example of a labelled image in the dataset. Feel free to change the value of `index` below and re-run to see different examples. "
   ]
  },
  {
   "cell_type": "code",
   "metadata": {
    "ExecuteTime": {
     "end_time": "2024-12-23T15:06:21.359569Z",
     "start_time": "2024-12-23T15:06:21.157105Z"
    }
   },
   "source": [
    "# Example of an image from the dataset\n",
    "index = 9\n",
    "plt.imshow(X_train_orig[index])\n",
    "print (\"y = \" + str(np.squeeze(Y_train_orig[:, index])))"
   ],
   "outputs": [
    {
     "name": "stdout",
     "output_type": "stream",
     "text": [
      "y = 4\n"
     ]
    },
    {
     "data": {
      "text/plain": [
       "<Figure size 640x480 with 1 Axes>"
      ],
      "image/png": "[encoded data removed]"
     },
     "metadata": {},
     "output_type": "display_data"
    }
   ],
   "execution_count": 5
  },
  {
   "cell_type": "markdown",
   "metadata": {},
   "source": [
    "<a name='4-2'></a>\n",
    "### 4.2 - Split the Data into Train/Test Sets\n",
    "\n",
    "In Course 2, you built a fully-connected network for this dataset. But since this is an image dataset, it is more natural to apply a ConvNet to it.\n",
    "\n",
    "To get started, let's examine the shapes of your data. "
   ]
  },
  {
   "cell_type": "code",
   "metadata": {
    "ExecuteTime": {
     "end_time": "2024-12-23T15:06:30.232086Z",
     "start_time": "2024-12-23T15:06:30.197919Z"
    }
   },
   "source": [
    "X_train = X_train_orig/255.\n",
    "X_test = X_test_orig/255.\n",
    "Y_train = convert_to_one_hot(Y_train_orig, 6).T\n",
    "Y_test = convert_to_one_hot(Y_test_orig, 6).T\n",
    "print (\"number of training examples = \" + str(X_train.shape[0]))\n",
    "print (\"number of test examples = \" + str(X_test.shape[0]))\n",
    "print (\"X_train shape: \" + str(X_train.shape))\n",
    "print (\"Y_train shape: \" + str(Y_train.shape))\n",
    "print (\"X_test shape: \" + str(X_test.shape))\n",
    "print (\"Y_test shape: \" + str(Y_test.shape))"
   ],
   "outputs": [
    {
     "name": "stdout",
     "output_type": "stream",
     "text": [
      "number of training examples = 1080\n",
      "number of test examples = 120\n",
      "X_train shape: (1080, 64, 64, 3)\n",
      "Y_train shape: (1080, 6)\n",
      "X_test shape: (120, 64, 64, 3)\n",
      "Y_test shape: (120, 6)\n"
     ]
    }
   ],
   "execution_count": 6
  },
  {
   "cell_type": "markdown",
   "metadata": {},
   "source": [
    "<a name='4-3'></a>\n",
    "### 4.3 - Forward Propagation\n",
    "\n",
    "In TensorFlow, there are built-in functions that implement the convolution steps for you. By now, you should be familiar with how TensorFlow builds computational graphs. In the [Functional API](https://www.tensorflow.org/guide/keras/functional), you create a graph of layers. This is what allows such great flexibility.\n",
    "\n",
    "However, the following model could also be defined using the Sequential API since the information flow is on a single line. But don't deviate. What we want you to learn is to use the functional API.\n",
    "\n",
    "Begin building your graph of layers by creating an input node that functions as a callable object:\n",
    "\n",
    "- **input_img = tf.keras.Input(shape=input_shape):** \n",
    "\n",
    "Then, create a new node in the graph of layers by calling a layer on the `input_img` object: \n",
    "\n",
    "- **tf.keras.layers.Conv2D(filters= ... , kernel_size= ... , padding='same')(input_img):** Read the full documentation on [Conv2D](https://www.tensorflow.org/api_docs/python/tf/keras/layers/Conv2D).\n",
    "\n",
    "- **tf.keras.layers.MaxPool2D(pool_size=(f, f), strides=(s, s), padding='same'):** `MaxPool2D()` downsamples your input using a window of size (f, f) and strides of size (s, s) to carry out max pooling over each window.  For max pooling, you usually operate on a single example at a time and a single channel at a time. Read the full documentation on [MaxPool2D](https://www.tensorflow.org/api_docs/python/tf/keras/layers/MaxPool2D).\n",
    "\n",
    "- **tf.keras.layers.ReLU():** computes the elementwise ReLU of Z (which can be any shape). You can read the full documentation on [ReLU](https://www.tensorflow.org/api_docs/python/tf/keras/layers/ReLU).\n",
    "\n",
    "- **tf.keras.layers.Flatten()**: given a tensor \"P\", this function takes each training (or test) example in the batch and flattens it into a 1D vector.  \n",
    "\n",
    "    * If a tensor P has the shape (batch_size,h,w,c), it returns a flattened tensor with shape (batch_size, k), where $k=h \\times w \\times c$.  \"k\" equals the product of all the dimension sizes other than the first dimension.\n",
    "    \n",
    "    * For example, given a tensor with dimensions [100, 2, 3, 4], it flattens the tensor to be of shape [100, 24], where 24 = 2 * 3 * 4.  You can read the full documentation on [Flatten](https://www.tensorflow.org/api_docs/python/tf/keras/layers/Flatten).\n",
    "\n",
    "- **tf.keras.layers.Dense(units= ... , activation='softmax')(F):** given the flattened input F, it returns the output computed using a fully connected layer. You can read the full documentation on [Dense](https://www.tensorflow.org/api_docs/python/tf/keras/layers/Dense).\n",
    "\n",
    "In the last function above (`tf.keras.layers.Dense()`), the fully connected layer automatically initializes weights in the graph and keeps on training them as you train the model. Hence, you did not need to initialize those weights when initializing the parameters.\n",
    "\n",
    "Lastly, before creating the model, you'll need to define the output using the last of the function's compositions (in this example, a Dense layer): \n",
    "\n",
    "- **outputs = tf.keras.layers.Dense(units=6, activation='softmax')(F)**\n",
    "\n",
    "\n",
    "#### Window, kernel, filter, pool\n",
    "\n",
    "The words \"kernel\" and \"filter\" are used to refer to the same thing. The word \"filter\" accounts for the amount of \"kernels\" that will be used in a single convolution layer. \"Pool\" is the name of the operation that takes the max or average value of the kernels. \n",
    "\n",
    "This is why the parameter `pool_size` refers to `kernel_size`, and you use `(f,f)` to refer to the filter size. \n",
    "\n",
    "Pool size and kernel size refer to the same thing in different objects - They refer to the shape of the window where the operation takes place. "
   ]
  },
  {
   "cell_type": "markdown",
   "metadata": {},
   "source": [
    "<a name='ex-2'></a>\n",
    "### Exercise 2 - convolutional_model\n",
    "\n",
    "Implement the `convolutional_model` function below to build the following model: `CONV2D -> RELU -> MAXPOOL -> CONV2D -> RELU -> MAXPOOL -> FLATTEN -> DENSE`. Use the functions above! \n",
    "\n",
    "Also, plug in the following parameters for all the steps:\n",
    "\n",
    " - [Conv2D](https://www.tensorflow.org/api_docs/python/tf/keras/layers/Conv2D): Use 8 4 by 4 filters, stride 1, padding is \"SAME\"\n",
    " - [ReLU](https://www.tensorflow.org/api_docs/python/tf/keras/layers/ReLU)\n",
    " - [MaxPool2D](https://www.tensorflow.org/api_docs/python/tf/keras/layers/MaxPool2D): Use an 8 by 8 filter size and an 8 by 8 stride, padding is \"SAME\"\n",
    " - **Conv2D**: Use 16 2 by 2 filters, stride 1, padding is \"SAME\"\n",
    " - **ReLU**\n",
    " - **MaxPool2D**: Use a 4 by 4 filter size and a 4 by 4 stride, padding is \"SAME\"\n",
    " - [Flatten](https://www.tensorflow.org/api_docs/python/tf/keras/layers/Flatten) the previous output.\n",
    " - Fully-connected ([Dense](https://www.tensorflow.org/api_docs/python/tf/keras/layers/Dense)) layer: Apply a fully connected layer with 6 neurons and a softmax activation. "
   ]
  },
  {
   "cell_type": "code",
   "metadata": {
    "deletable": false,
    "nbgrader": {
     "cell_type": "code",
     "checksum": "f58643806aa8380c96225fc8b4c5e7aa",
     "grade": false,
     "grade_id": "cell-dac51744a9e03f51",
     "locked": false,
     "schema_version": 3,
     "solution": true,
     "task": false
    },
    "ExecuteTime": {
     "end_time": "2024-12-23T15:07:11.157374Z",
     "start_time": "2024-12-23T15:07:11.141053Z"
    }
   },
   "source": [
    "# GRADED FUNCTION: convolutional_model\n",
    "\n",
    "def convolutional_model(input_shape):\n",
    "    \"\"\"\n",
    "    Implements the forward propagation for the model:\n",
    "    CONV2D -> RELU -> MAXPOOL -> CONV2D -> RELU -> MAXPOOL -> FLATTEN -> DENSE\n",
    "    \n",
    "    Note that for simplicity and grading purposes, you'll hard-code some values\n",
    "    such as the stride and kernel (filter) sizes. \n",
    "    Normally, functions should take these values as function parameters.\n",
    "    \n",
    "    Arguments:\n",
    "    input_img -- input dataset, of shape (input_shape)\n",
    "\n",
    "    Returns:\n",
    "    model -- TF Keras model (object containing the information for the entire training process) \n",
    "    \"\"\"\n",
    "    # YOUR CODE STARTS HERE\n",
    "\n",
    "    input_img = tf.keras.Input(shape=input_shape)\n",
    "    ## CONV2D: 8 filters 4x4, stride of 1, padding 'SAME'\n",
    "    ## RELU\n",
    "    ## MAXPOOL: window 8x8, stride 8, padding 'SAME'\n",
    "    ## CONV2D: 16 filters 2x2, stride 1, padding 'SAME'\n",
    "    ## RELU\n",
    "    ## FLATTEN\n",
    "    ## Dense layer\n",
    "    ## 6 neurons in output layer. Hint: one of the arguments should be \"activation='softmax'\" \n",
    "\n",
    "    Z1 = tfl.Conv2D(filters=8, kernel_size=(4,4), strides=1, padding='same')(input_img)\n",
    "    A1 = tfl.ReLU()(Z1)\n",
    "    P1 = tfl.MaxPool2D(pool_size=(8,8), strides=8, padding='same')(A1)\n",
    "    Z2 = tfl.Conv2D(filters=16, kernel_size=(2,2), strides=1, padding='same')(P1)\n",
    "    A2 = tfl.ReLU()(Z2)\n",
    "    P2 = tfl.MaxPool2D(pool_size=(4,4), strides=4, padding='same')(A2)\n",
    "    F = tfl.Flatten()(P2)\n",
    "    outputs = tfl.Dense(units=6, activation='softmax')(F)\n",
    "    \n",
    "    # YOUR CODE ENDS HERE\n",
    "    model = tf.keras.Model(inputs=input_img, outputs=outputs)\n",
    "    return model"
   ],
   "outputs": [],
   "execution_count": 9
  },
  {
   "cell_type": "code",
   "metadata": {
    "deletable": false,
    "editable": false,
    "nbgrader": {
     "cell_type": "code",
     "checksum": "483d626949930a0b0ef20997e7c6ba72",
     "grade": true,
     "grade_id": "cell-45d22e92042174c9",
     "locked": true,
     "points": 10,
     "schema_version": 3,
     "solution": false,
     "task": false
    },
    "ExecuteTime": {
     "end_time": "2024-12-23T15:07:11.436793Z",
     "start_time": "2024-12-23T15:07:11.349081Z"
    }
   },
   "source": [
    "conv_model = convolutional_model((64, 64, 3))\n",
    "conv_model.compile(optimizer='adam',\n",
    "                  loss='categorical_crossentropy',\n",
    "                  metrics=['accuracy'])\n",
    "conv_model.summary()\n",
    "    \n",
    "output = [['InputLayer', [(None, 64, 64, 3)], 0],\n",
    "        ['Conv2D', (None, 64, 64, 8), 392, 'same', 'linear', 'GlorotUniform'],\n",
    "        ['ReLU', (None, 64, 64, 8), 0],\n",
    "        ['MaxPooling2D', (None, 8, 8, 8), 0, (8, 8), (8, 8), 'same'],\n",
    "        ['Conv2D', (None, 8, 8, 16), 528, 'same', 'linear', 'GlorotUniform'],\n",
    "        ['ReLU', (None, 8, 8, 16), 0],\n",
    "        ['MaxPooling2D', (None, 2, 2, 16), 0, (4, 4), (4, 4), 'same'],\n",
    "        ['Flatten', (None, 64), 0],\n",
    "        ['Dense', (None, 6), 390, 'softmax']]\n",
    "    \n",
    "comparator(summary(conv_model), output)"
   ],
   "outputs": [
    {
     "data": {
      "text/plain": [
       "\u001B[1mModel: \"functional\"\u001B[0m\n"
      ],
      "text/html": [
       "<pre style=\"white-space:pre;overflow-x:auto;line-height:normal;font-family:Menlo,'DejaVu Sans Mono',consolas,'Courier New',monospace\"><span style=\"font-weight: bold\">Model: \"functional\"</span>\n",
       "</pre>\n"
      ]
     },
     "metadata": {},
     "output_type": "display_data"
    },
    {
     "data": {
      "text/plain": [
       "┏━━━━━━━━━━━━━━━━━━━━━━━━━━━━━━━━━┳━━━━━━━━━━━━━━━━━━━━━━━━┳━━━━━━━━━━━━━━━┓\n",
       "┃\u001B[1m \u001B[0m\u001B[1mLayer (type)                   \u001B[0m\u001B[1m \u001B[0m┃\u001B[1m \u001B[0m\u001B[1mOutput Shape          \u001B[0m\u001B[1m \u001B[0m┃\u001B[1m \u001B[0m\u001B[1m      Param #\u001B[0m\u001B[1m \u001B[0m┃\n",
       "┡━━━━━━━━━━━━━━━━━━━━━━━━━━━━━━━━━╇━━━━━━━━━━━━━━━━━━━━━━━━╇━━━━━━━━━━━━━━━┩\n",
       "│ input_layer_1 (\u001B[38;5;33mInputLayer\u001B[0m)      │ (\u001B[38;5;45mNone\u001B[0m, \u001B[38;5;34m64\u001B[0m, \u001B[38;5;34m64\u001B[0m, \u001B[38;5;34m3\u001B[0m)      │             \u001B[38;5;34m0\u001B[0m │\n",
       "├─────────────────────────────────┼────────────────────────┼───────────────┤\n",
       "│ conv2d_1 (\u001B[38;5;33mConv2D\u001B[0m)               │ (\u001B[38;5;45mNone\u001B[0m, \u001B[38;5;34m64\u001B[0m, \u001B[38;5;34m64\u001B[0m, \u001B[38;5;34m8\u001B[0m)      │           \u001B[38;5;34m392\u001B[0m │\n",
       "├─────────────────────────────────┼────────────────────────┼───────────────┤\n",
       "│ re_lu_1 (\u001B[38;5;33mReLU\u001B[0m)                  │ (\u001B[38;5;45mNone\u001B[0m, \u001B[38;5;34m64\u001B[0m, \u001B[38;5;34m64\u001B[0m, \u001B[38;5;34m8\u001B[0m)      │             \u001B[38;5;34m0\u001B[0m │\n",
       "├─────────────────────────────────┼────────────────────────┼───────────────┤\n",
       "│ max_pooling2d (\u001B[38;5;33mMaxPooling2D\u001B[0m)    │ (\u001B[38;5;45mNone\u001B[0m, \u001B[38;5;34m8\u001B[0m, \u001B[38;5;34m8\u001B[0m, \u001B[38;5;34m8\u001B[0m)        │             \u001B[38;5;34m0\u001B[0m │\n",
       "├─────────────────────────────────┼────────────────────────┼───────────────┤\n",
       "│ conv2d_2 (\u001B[38;5;33mConv2D\u001B[0m)               │ (\u001B[38;5;45mNone\u001B[0m, \u001B[38;5;34m8\u001B[0m, \u001B[38;5;34m8\u001B[0m, \u001B[38;5;34m16\u001B[0m)       │           \u001B[38;5;34m528\u001B[0m │\n",
       "├─────────────────────────────────┼────────────────────────┼───────────────┤\n",
       "│ re_lu_2 (\u001B[38;5;33mReLU\u001B[0m)                  │ (\u001B[38;5;45mNone\u001B[0m, \u001B[38;5;34m8\u001B[0m, \u001B[38;5;34m8\u001B[0m, \u001B[38;5;34m16\u001B[0m)       │             \u001B[38;5;34m0\u001B[0m │\n",
       "├─────────────────────────────────┼────────────────────────┼───────────────┤\n",
       "│ max_pooling2d_1 (\u001B[38;5;33mMaxPooling2D\u001B[0m)  │ (\u001B[38;5;45mNone\u001B[0m, \u001B[38;5;34m2\u001B[0m, \u001B[38;5;34m2\u001B[0m, \u001B[38;5;34m16\u001B[0m)       │             \u001B[38;5;34m0\u001B[0m │\n",
       "├─────────────────────────────────┼────────────────────────┼───────────────┤\n",
       "│ flatten (\u001B[38;5;33mFlatten\u001B[0m)               │ (\u001B[38;5;45mNone\u001B[0m, \u001B[38;5;34m64\u001B[0m)             │             \u001B[38;5;34m0\u001B[0m │\n",
       "├─────────────────────────────────┼────────────────────────┼───────────────┤\n",
       "│ dense (\u001B[38;5;33mDense\u001B[0m)                   │ (\u001B[38;5;45mNone\u001B[0m, \u001B[38;5;34m6\u001B[0m)              │           \u001B[38;5;34m390\u001B[0m │\n",
       "└─────────────────────────────────┴────────────────────────┴───────────────┘\n"
      ],
      "text/html": [
       "<pre style=\"white-space:pre;overflow-x:auto;line-height:normal;font-family:Menlo,'DejaVu Sans Mono',consolas,'Courier New',monospace\">┏━━━━━━━━━━━━━━━━━━━━━━━━━━━━━━━━━┳━━━━━━━━━━━━━━━━━━━━━━━━┳━━━━━━━━━━━━━━━┓\n",
       "┃<span style=\"font-weight: bold\"> Layer (type)                    </span>┃<span style=\"font-weight: bold\"> Output Shape           </span>┃<span style=\"font-weight: bold\">       Param # </span>┃\n",
       "┡━━━━━━━━━━━━━━━━━━━━━━━━━━━━━━━━━╇━━━━━━━━━━━━━━━━━━━━━━━━╇━━━━━━━━━━━━━━━┩\n",
       "│ input_layer_1 (<span style=\"color: #0087ff; text-decoration-color: #0087ff\">InputLayer</span>)      │ (<span style=\"color: #00d7ff; text-decoration-color: #00d7ff\">None</span>, <span style=\"color: #00af00; text-decoration-color: #00af00\">64</span>, <span style=\"color: #00af00; text-decoration-color: #00af00\">64</span>, <span style=\"color: #00af00; text-decoration-color: #00af00\">3</span>)      │             <span style=\"color: #00af00; text-decoration-color: #00af00\">0</span> │\n",
       "├─────────────────────────────────┼────────────────────────┼───────────────┤\n",
       "│ conv2d_1 (<span style=\"color: #0087ff; text-decoration-color: #0087ff\">Conv2D</span>)               │ (<span style=\"color: #00d7ff; text-decoration-color: #00d7ff\">None</span>, <span style=\"color: #00af00; text-decoration-color: #00af00\">64</span>, <span style=\"color: #00af00; text-decoration-color: #00af00\">64</span>, <span style=\"color: #00af00; text-decoration-color: #00af00\">8</span>)      │           <span style=\"color: #00af00; text-decoration-color: #00af00\">392</span> │\n",
       "├─────────────────────────────────┼────────────────────────┼───────────────┤\n",
       "│ re_lu_1 (<span style=\"color: #0087ff; text-decoration-color: #0087ff\">ReLU</span>)                  │ (<span style=\"color: #00d7ff; text-decoration-color: #00d7ff\">None</span>, <span style=\"color: #00af00; text-decoration-color: #00af00\">64</span>, <span style=\"color: #00af00; text-decoration-color: #00af00\">64</span>, <span style=\"color: #00af00; text-decoration-color: #00af00\">8</span>)      │             <span style=\"color: #00af00; text-decoration-color: #00af00\">0</span> │\n",
       "├─────────────────────────────────┼────────────────────────┼───────────────┤\n",
       "│ max_pooling2d (<span style=\"color: #0087ff; text-decoration-color: #0087ff\">MaxPooling2D</span>)    │ (<span style=\"color: #00d7ff; text-decoration-color: #00d7ff\">None</span>, <span style=\"color: #00af00; text-decoration-color: #00af00\">8</span>, <span style=\"color: #00af00; text-decoration-color: #00af00\">8</span>, <span style=\"color: #00af00; text-decoration-color: #00af00\">8</span>)        │             <span style=\"color: #00af00; text-decoration-color: #00af00\">0</span> │\n",
       "├─────────────────────────────────┼────────────────────────┼───────────────┤\n",
       "│ conv2d_2 (<span style=\"color: #0087ff; text-decoration-color: #0087ff\">Conv2D</span>)               │ (<span style=\"color: #00d7ff; text-decoration-color: #00d7ff\">None</span>, <span style=\"color: #00af00; text-decoration-color: #00af00\">8</span>, <span style=\"color: #00af00; text-decoration-color: #00af00\">8</span>, <span style=\"color: #00af00; text-decoration-color: #00af00\">16</span>)       │           <span style=\"color: #00af00; text-decoration-color: #00af00\">528</span> │\n",
       "├─────────────────────────────────┼────────────────────────┼───────────────┤\n",
       "│ re_lu_2 (<span style=\"color: #0087ff; text-decoration-color: #0087ff\">ReLU</span>)                  │ (<span style=\"color: #00d7ff; text-decoration-color: #00d7ff\">None</span>, <span style=\"color: #00af00; text-decoration-color: #00af00\">8</span>, <span style=\"color: #00af00; text-decoration-color: #00af00\">8</span>, <span style=\"color: #00af00; text-decoration-color: #00af00\">16</span>)       │             <span style=\"color: #00af00; text-decoration-color: #00af00\">0</span> │\n",
       "├─────────────────────────────────┼────────────────────────┼───────────────┤\n",
       "│ max_pooling2d_1 (<span style=\"color: #0087ff; text-decoration-color: #0087ff\">MaxPooling2D</span>)  │ (<span style=\"color: #00d7ff; text-decoration-color: #00d7ff\">None</span>, <span style=\"color: #00af00; text-decoration-color: #00af00\">2</span>, <span style=\"color: #00af00; text-decoration-color: #00af00\">2</span>, <span style=\"color: #00af00; text-decoration-color: #00af00\">16</span>)       │             <span style=\"color: #00af00; text-decoration-color: #00af00\">0</span> │\n",
       "├─────────────────────────────────┼────────────────────────┼───────────────┤\n",
       "│ flatten (<span style=\"color: #0087ff; text-decoration-color: #0087ff\">Flatten</span>)               │ (<span style=\"color: #00d7ff; text-decoration-color: #00d7ff\">None</span>, <span style=\"color: #00af00; text-decoration-color: #00af00\">64</span>)             │             <span style=\"color: #00af00; text-decoration-color: #00af00\">0</span> │\n",
       "├─────────────────────────────────┼────────────────────────┼───────────────┤\n",
       "│ dense (<span style=\"color: #0087ff; text-decoration-color: #0087ff\">Dense</span>)                   │ (<span style=\"color: #00d7ff; text-decoration-color: #00d7ff\">None</span>, <span style=\"color: #00af00; text-decoration-color: #00af00\">6</span>)              │           <span style=\"color: #00af00; text-decoration-color: #00af00\">390</span> │\n",
       "└─────────────────────────────────┴────────────────────────┴───────────────┘\n",
       "</pre>\n"
      ]
     },
     "metadata": {},
     "output_type": "display_data"
    },
    {
     "data": {
      "text/plain": [
       "\u001B[1m Total params: \u001B[0m\u001B[38;5;34m1,310\u001B[0m (5.12 KB)\n"
      ],
      "text/html": [
       "<pre style=\"white-space:pre;overflow-x:auto;line-height:normal;font-family:Menlo,'DejaVu Sans Mono',consolas,'Courier New',monospace\"><span style=\"font-weight: bold\"> Total params: </span><span style=\"color: #00af00; text-decoration-color: #00af00\">1,310</span> (5.12 KB)\n",
       "</pre>\n"
      ]
     },
     "metadata": {},
     "output_type": "display_data"
    },
    {
     "data": {
      "text/plain": [
       "\u001B[1m Trainable params: \u001B[0m\u001B[38;5;34m1,310\u001B[0m (5.12 KB)\n"
      ],
      "text/html": [
       "<pre style=\"white-space:pre;overflow-x:auto;line-height:normal;font-family:Menlo,'DejaVu Sans Mono',consolas,'Courier New',monospace\"><span style=\"font-weight: bold\"> Trainable params: </span><span style=\"color: #00af00; text-decoration-color: #00af00\">1,310</span> (5.12 KB)\n",
       "</pre>\n"
      ]
     },
     "metadata": {},
     "output_type": "display_data"
    },
    {
     "data": {
      "text/plain": [
       "\u001B[1m Non-trainable params: \u001B[0m\u001B[38;5;34m0\u001B[0m (0.00 B)\n"
      ],
      "text/html": [
       "<pre style=\"white-space:pre;overflow-x:auto;line-height:normal;font-family:Menlo,'DejaVu Sans Mono',consolas,'Courier New',monospace\"><span style=\"font-weight: bold\"> Non-trainable params: </span><span style=\"color: #00af00; text-decoration-color: #00af00\">0</span> (0.00 B)\n",
       "</pre>\n"
      ]
     },
     "metadata": {},
     "output_type": "display_data"
    },
    {
     "ename": "AttributeError",
     "evalue": "'InputLayer' object has no attribute 'output_shape'",
     "output_type": "error",
     "traceback": [
      "\u001B[1;31m---------------------------------------------------------------------------\u001B[0m",
      "\u001B[1;31mAttributeError\u001B[0m                            Traceback (most recent call last)",
      "Cell \u001B[1;32mIn[10], line 17\u001B[0m\n\u001B[0;32m      5\u001B[0m conv_model\u001B[38;5;241m.\u001B[39msummary()\n\u001B[0;32m      7\u001B[0m output \u001B[38;5;241m=\u001B[39m [[\u001B[38;5;124m'\u001B[39m\u001B[38;5;124mInputLayer\u001B[39m\u001B[38;5;124m'\u001B[39m, [(\u001B[38;5;28;01mNone\u001B[39;00m, \u001B[38;5;241m64\u001B[39m, \u001B[38;5;241m64\u001B[39m, \u001B[38;5;241m3\u001B[39m)], \u001B[38;5;241m0\u001B[39m],\n\u001B[0;32m      8\u001B[0m         [\u001B[38;5;124m'\u001B[39m\u001B[38;5;124mConv2D\u001B[39m\u001B[38;5;124m'\u001B[39m, (\u001B[38;5;28;01mNone\u001B[39;00m, \u001B[38;5;241m64\u001B[39m, \u001B[38;5;241m64\u001B[39m, \u001B[38;5;241m8\u001B[39m), \u001B[38;5;241m392\u001B[39m, \u001B[38;5;124m'\u001B[39m\u001B[38;5;124msame\u001B[39m\u001B[38;5;124m'\u001B[39m, \u001B[38;5;124m'\u001B[39m\u001B[38;5;124mlinear\u001B[39m\u001B[38;5;124m'\u001B[39m, \u001B[38;5;124m'\u001B[39m\u001B[38;5;124mGlorotUniform\u001B[39m\u001B[38;5;124m'\u001B[39m],\n\u001B[0;32m      9\u001B[0m         [\u001B[38;5;124m'\u001B[39m\u001B[38;5;124mReLU\u001B[39m\u001B[38;5;124m'\u001B[39m, (\u001B[38;5;28;01mNone\u001B[39;00m, \u001B[38;5;241m64\u001B[39m, \u001B[38;5;241m64\u001B[39m, \u001B[38;5;241m8\u001B[39m), \u001B[38;5;241m0\u001B[39m],\n\u001B[1;32m   (...)\u001B[0m\n\u001B[0;32m     14\u001B[0m         [\u001B[38;5;124m'\u001B[39m\u001B[38;5;124mFlatten\u001B[39m\u001B[38;5;124m'\u001B[39m, (\u001B[38;5;28;01mNone\u001B[39;00m, \u001B[38;5;241m64\u001B[39m), \u001B[38;5;241m0\u001B[39m],\n\u001B[0;32m     15\u001B[0m         [\u001B[38;5;124m'\u001B[39m\u001B[38;5;124mDense\u001B[39m\u001B[38;5;124m'\u001B[39m, (\u001B[38;5;28;01mNone\u001B[39;00m, \u001B[38;5;241m6\u001B[39m), \u001B[38;5;241m390\u001B[39m, \u001B[38;5;124m'\u001B[39m\u001B[38;5;124msoftmax\u001B[39m\u001B[38;5;124m'\u001B[39m]]\n\u001B[1;32m---> 17\u001B[0m comparator(\u001B[43msummary\u001B[49m\u001B[43m(\u001B[49m\u001B[43mconv_model\u001B[49m\u001B[43m)\u001B[49m, output)\n",
      "File \u001B[1;32m~\\PycharmProjects\\deep_learning_course\\convolutional_neural_network\\Week1\\Convolution_Model_Application\\test_utils.py:36\u001B[0m, in \u001B[0;36msummary\u001B[1;34m(model)\u001B[0m\n\u001B[0;32m     34\u001B[0m result \u001B[38;5;241m=\u001B[39m []\n\u001B[0;32m     35\u001B[0m \u001B[38;5;28;01mfor\u001B[39;00m layer \u001B[38;5;129;01min\u001B[39;00m model\u001B[38;5;241m.\u001B[39mlayers:\n\u001B[1;32m---> 36\u001B[0m     descriptors \u001B[38;5;241m=\u001B[39m [layer\u001B[38;5;241m.\u001B[39m\u001B[38;5;18m__class__\u001B[39m\u001B[38;5;241m.\u001B[39m\u001B[38;5;18m__name__\u001B[39m, \u001B[43mlayer\u001B[49m\u001B[38;5;241;43m.\u001B[39;49m\u001B[43moutput_shape\u001B[49m, layer\u001B[38;5;241m.\u001B[39mcount_params()]\n\u001B[0;32m     37\u001B[0m     \u001B[38;5;28;01mif\u001B[39;00m (\u001B[38;5;28mtype\u001B[39m(layer) \u001B[38;5;241m==\u001B[39m Conv2D):\n\u001B[0;32m     38\u001B[0m         descriptors\u001B[38;5;241m.\u001B[39mappend(layer\u001B[38;5;241m.\u001B[39mpadding)\n",
      "\u001B[1;31mAttributeError\u001B[0m: 'InputLayer' object has no attribute 'output_shape'"
     ]
    }
   ],
   "execution_count": 10
  },
  {
   "cell_type": "markdown",
   "metadata": {},
   "source": [
    "Both the Sequential and Functional APIs return a TF Keras model object. The only difference is how inputs are handled inside the object model! "
   ]
  },
  {
   "cell_type": "markdown",
   "metadata": {},
   "source": [
    "<a name='4-4'></a>\n",
    "### 4.4 - Train the Model"
   ]
  },
  {
   "cell_type": "code",
   "metadata": {
    "ExecuteTime": {
     "end_time": "2024-12-23T15:07:27.551616Z",
     "start_time": "2024-12-23T15:07:19.328242Z"
    }
   },
   "source": [
    "train_dataset = tf.data.Dataset.from_tensor_slices((X_train, Y_train)).batch(64)\n",
    "test_dataset = tf.data.Dataset.from_tensor_slices((X_test, Y_test)).batch(64)\n",
    "history = conv_model.fit(train_dataset, epochs=100, validation_data=test_dataset)"
   ],
   "outputs": [
    {
     "name": "stdout",
     "output_type": "stream",
     "text": [
      "Epoch 1/100\n",
      "\u001B[1m17/17\u001B[0m \u001B[32m━━━━━━━━━━━━━━━━━━━━\u001B[0m\u001B[37m\u001B[0m \u001B[1m1s\u001B[0m 9ms/step - accuracy: 0.1595 - loss: 1.9508 - val_accuracy: 0.1583 - val_loss: 1.8055\n",
      "Epoch 2/100\n",
      "\u001B[1m17/17\u001B[0m \u001B[32m━━━━━━━━━━━━━━━━━━━━\u001B[0m\u001B[37m\u001B[0m \u001B[1m0s\u001B[0m 5ms/step - accuracy: 0.1181 - loss: 1.7969 - val_accuracy: 0.1417 - val_loss: 1.7957\n",
      "Epoch 3/100\n",
      "\u001B[1m17/17\u001B[0m \u001B[32m━━━━━━━━━━━━━━━━━━━━\u001B[0m\u001B[37m\u001B[0m \u001B[1m0s\u001B[0m 5ms/step - accuracy: 0.1539 - loss: 1.7889 - val_accuracy: 0.1583 - val_loss: 1.7900\n",
      "Epoch 4/100\n",
      "\u001B[1m17/17\u001B[0m \u001B[32m━━━━━━━━━━━━━━━━━━━━\u001B[0m\u001B[37m\u001B[0m \u001B[1m0s\u001B[0m 5ms/step - accuracy: 0.1864 - loss: 1.7825 - val_accuracy: 0.2083 - val_loss: 1.7855\n",
      "Epoch 5/100\n",
      "\u001B[1m17/17\u001B[0m \u001B[32m━━━━━━━━━━━━━━━━━━━━\u001B[0m\u001B[37m\u001B[0m \u001B[1m0s\u001B[0m 5ms/step - accuracy: 0.2484 - loss: 1.7772 - val_accuracy: 0.2083 - val_loss: 1.7825\n",
      "Epoch 6/100\n",
      "\u001B[1m17/17\u001B[0m \u001B[32m━━━━━━━━━━━━━━━━━━━━\u001B[0m\u001B[37m\u001B[0m \u001B[1m0s\u001B[0m 5ms/step - accuracy: 0.2670 - loss: 1.7721 - val_accuracy: 0.2083 - val_loss: 1.7776\n",
      "Epoch 7/100\n",
      "\u001B[1m17/17\u001B[0m \u001B[32m━━━━━━━━━━━━━━━━━━━━\u001B[0m\u001B[37m\u001B[0m \u001B[1m0s\u001B[0m 4ms/step - accuracy: 0.2670 - loss: 1.7654 - val_accuracy: 0.2667 - val_loss: 1.7723\n",
      "Epoch 8/100\n",
      "\u001B[1m17/17\u001B[0m \u001B[32m━━━━━━━━━━━━━━━━━━━━\u001B[0m\u001B[37m\u001B[0m \u001B[1m0s\u001B[0m 4ms/step - accuracy: 0.3192 - loss: 1.7581 - val_accuracy: 0.2583 - val_loss: 1.7670\n",
      "Epoch 9/100\n",
      "\u001B[1m17/17\u001B[0m \u001B[32m━━━━━━━━━━━━━━━━━━━━\u001B[0m\u001B[37m\u001B[0m \u001B[1m0s\u001B[0m 4ms/step - accuracy: 0.3341 - loss: 1.7493 - val_accuracy: 0.3417 - val_loss: 1.7596\n",
      "Epoch 10/100\n",
      "\u001B[1m17/17\u001B[0m \u001B[32m━━━━━━━━━━━━━━━━━━━━\u001B[0m\u001B[37m\u001B[0m \u001B[1m0s\u001B[0m 4ms/step - accuracy: 0.3496 - loss: 1.7354 - val_accuracy: 0.3333 - val_loss: 1.7458\n",
      "Epoch 11/100\n",
      "\u001B[1m17/17\u001B[0m \u001B[32m━━━━━━━━━━━━━━━━━━━━\u001B[0m\u001B[37m\u001B[0m \u001B[1m0s\u001B[0m 5ms/step - accuracy: 0.3756 - loss: 1.7158 - val_accuracy: 0.3750 - val_loss: 1.7299\n",
      "Epoch 12/100\n",
      "\u001B[1m17/17\u001B[0m \u001B[32m━━━━━━━━━━━━━━━━━━━━\u001B[0m\u001B[37m\u001B[0m \u001B[1m0s\u001B[0m 4ms/step - accuracy: 0.4068 - loss: 1.6913 - val_accuracy: 0.3500 - val_loss: 1.7109\n",
      "Epoch 13/100\n",
      "\u001B[1m17/17\u001B[0m \u001B[32m━━━━━━━━━━━━━━━━━━━━\u001B[0m\u001B[37m\u001B[0m \u001B[1m0s\u001B[0m 4ms/step - accuracy: 0.4355 - loss: 1.6626 - val_accuracy: 0.3917 - val_loss: 1.6882\n",
      "Epoch 14/100\n",
      "\u001B[1m17/17\u001B[0m \u001B[32m━━━━━━━━━━━━━━━━━━━━\u001B[0m\u001B[37m\u001B[0m \u001B[1m0s\u001B[0m 4ms/step - accuracy: 0.4470 - loss: 1.6300 - val_accuracy: 0.3917 - val_loss: 1.6591\n",
      "Epoch 15/100\n",
      "\u001B[1m17/17\u001B[0m \u001B[32m━━━━━━━━━━━━━━━━━━━━\u001B[0m\u001B[37m\u001B[0m \u001B[1m0s\u001B[0m 4ms/step - accuracy: 0.4517 - loss: 1.5905 - val_accuracy: 0.4083 - val_loss: 1.6266\n",
      "Epoch 16/100\n",
      "\u001B[1m17/17\u001B[0m \u001B[32m━━━━━━━━━━━━━━━━━━━━\u001B[0m\u001B[37m\u001B[0m \u001B[1m0s\u001B[0m 4ms/step - accuracy: 0.4686 - loss: 1.5490 - val_accuracy: 0.4083 - val_loss: 1.5942\n",
      "Epoch 17/100\n",
      "\u001B[1m17/17\u001B[0m \u001B[32m━━━━━━━━━━━━━━━━━━━━\u001B[0m\u001B[37m\u001B[0m \u001B[1m0s\u001B[0m 4ms/step - accuracy: 0.4800 - loss: 1.5046 - val_accuracy: 0.4333 - val_loss: 1.5634\n",
      "Epoch 18/100\n",
      "\u001B[1m17/17\u001B[0m \u001B[32m━━━━━━━━━━━━━━━━━━━━\u001B[0m\u001B[37m\u001B[0m \u001B[1m0s\u001B[0m 4ms/step - accuracy: 0.4864 - loss: 1.4619 - val_accuracy: 0.4250 - val_loss: 1.5300\n",
      "Epoch 19/100\n",
      "\u001B[1m17/17\u001B[0m \u001B[32m━━━━━━━━━━━━━━━━━━━━\u001B[0m\u001B[37m\u001B[0m \u001B[1m0s\u001B[0m 4ms/step - accuracy: 0.5014 - loss: 1.4209 - val_accuracy: 0.4333 - val_loss: 1.5029\n",
      "Epoch 20/100\n",
      "\u001B[1m17/17\u001B[0m \u001B[32m━━━━━━━━━━━━━━━━━━━━\u001B[0m\u001B[37m\u001B[0m \u001B[1m0s\u001B[0m 4ms/step - accuracy: 0.5076 - loss: 1.3825 - val_accuracy: 0.4167 - val_loss: 1.4743\n",
      "Epoch 21/100\n",
      "\u001B[1m17/17\u001B[0m \u001B[32m━━━━━━━━━━━━━━━━━━━━\u001B[0m\u001B[37m\u001B[0m \u001B[1m0s\u001B[0m 5ms/step - accuracy: 0.5292 - loss: 1.3468 - val_accuracy: 0.4333 - val_loss: 1.4476\n",
      "Epoch 22/100\n",
      "\u001B[1m17/17\u001B[0m \u001B[32m━━━━━━━━━━━━━━━━━━━━\u001B[0m\u001B[37m\u001B[0m \u001B[1m0s\u001B[0m 4ms/step - accuracy: 0.5389 - loss: 1.3139 - val_accuracy: 0.4417 - val_loss: 1.4232\n",
      "Epoch 23/100\n",
      "\u001B[1m17/17\u001B[0m \u001B[32m━━━━━━━━━━━━━━━━━━━━\u001B[0m\u001B[37m\u001B[0m \u001B[1m0s\u001B[0m 4ms/step - accuracy: 0.5452 - loss: 1.2839 - val_accuracy: 0.4500 - val_loss: 1.3991\n",
      "Epoch 24/100\n",
      "\u001B[1m17/17\u001B[0m \u001B[32m━━━━━━━━━━━━━━━━━━━━\u001B[0m\u001B[37m\u001B[0m \u001B[1m0s\u001B[0m 4ms/step - accuracy: 0.5524 - loss: 1.2570 - val_accuracy: 0.4333 - val_loss: 1.3763\n",
      "Epoch 25/100\n",
      "\u001B[1m17/17\u001B[0m \u001B[32m━━━━━━━━━━━━━━━━━━━━\u001B[0m\u001B[37m\u001B[0m \u001B[1m0s\u001B[0m 4ms/step - accuracy: 0.5607 - loss: 1.2301 - val_accuracy: 0.4500 - val_loss: 1.3551\n",
      "Epoch 26/100\n",
      "\u001B[1m17/17\u001B[0m \u001B[32m━━━━━━━━━━━━━━━━━━━━\u001B[0m\u001B[37m\u001B[0m \u001B[1m0s\u001B[0m 3ms/step - accuracy: 0.5811 - loss: 1.2050 - val_accuracy: 0.4667 - val_loss: 1.3352\n",
      "Epoch 27/100\n",
      "\u001B[1m17/17\u001B[0m \u001B[32m━━━━━━━━━━━━━━━━━━━━\u001B[0m\u001B[37m\u001B[0m \u001B[1m0s\u001B[0m 4ms/step - accuracy: 0.5965 - loss: 1.1822 - val_accuracy: 0.4583 - val_loss: 1.3159\n",
      "Epoch 28/100\n",
      "\u001B[1m17/17\u001B[0m \u001B[32m━━━━━━━━━━━━━━━━━━━━\u001B[0m\u001B[37m\u001B[0m \u001B[1m0s\u001B[0m 4ms/step - accuracy: 0.6011 - loss: 1.1597 - val_accuracy: 0.4667 - val_loss: 1.2965\n",
      "Epoch 29/100\n",
      "\u001B[1m17/17\u001B[0m \u001B[32m━━━━━━━━━━━━━━━━━━━━\u001B[0m\u001B[37m\u001B[0m \u001B[1m0s\u001B[0m 4ms/step - accuracy: 0.6156 - loss: 1.1384 - val_accuracy: 0.4833 - val_loss: 1.2763\n",
      "Epoch 30/100\n",
      "\u001B[1m17/17\u001B[0m \u001B[32m━━━━━━━━━━━━━━━━━━━━\u001B[0m\u001B[37m\u001B[0m \u001B[1m0s\u001B[0m 5ms/step - accuracy: 0.6205 - loss: 1.1177 - val_accuracy: 0.4833 - val_loss: 1.2603\n",
      "Epoch 31/100\n",
      "\u001B[1m17/17\u001B[0m \u001B[32m━━━━━━━━━━━━━━━━━━━━\u001B[0m\u001B[37m\u001B[0m \u001B[1m0s\u001B[0m 4ms/step - accuracy: 0.6234 - loss: 1.0979 - val_accuracy: 0.4833 - val_loss: 1.2413\n",
      "Epoch 32/100\n",
      "\u001B[1m17/17\u001B[0m \u001B[32m━━━━━━━━━━━━━━━━━━━━\u001B[0m\u001B[37m\u001B[0m \u001B[1m0s\u001B[0m 4ms/step - accuracy: 0.6358 - loss: 1.0787 - val_accuracy: 0.4833 - val_loss: 1.2247\n",
      "Epoch 33/100\n",
      "\u001B[1m17/17\u001B[0m \u001B[32m━━━━━━━━━━━━━━━━━━━━\u001B[0m\u001B[37m\u001B[0m \u001B[1m0s\u001B[0m 4ms/step - accuracy: 0.6425 - loss: 1.0605 - val_accuracy: 0.4917 - val_loss: 1.2068\n",
      "Epoch 34/100\n",
      "\u001B[1m17/17\u001B[0m \u001B[32m━━━━━━━━━━━━━━━━━━━━\u001B[0m\u001B[37m\u001B[0m \u001B[1m0s\u001B[0m 4ms/step - accuracy: 0.6516 - loss: 1.0431 - val_accuracy: 0.5417 - val_loss: 1.1903\n",
      "Epoch 35/100\n",
      "\u001B[1m17/17\u001B[0m \u001B[32m━━━━━━━━━━━━━━━━━━━━\u001B[0m\u001B[37m\u001B[0m \u001B[1m0s\u001B[0m 4ms/step - accuracy: 0.6607 - loss: 1.0255 - val_accuracy: 0.5500 - val_loss: 1.1710\n",
      "Epoch 36/100\n",
      "\u001B[1m17/17\u001B[0m \u001B[32m━━━━━━━━━━━━━━━━━━━━\u001B[0m\u001B[37m\u001B[0m \u001B[1m0s\u001B[0m 4ms/step - accuracy: 0.6676 - loss: 1.0078 - val_accuracy: 0.5417 - val_loss: 1.1550\n",
      "Epoch 37/100\n",
      "\u001B[1m17/17\u001B[0m \u001B[32m━━━━━━━━━━━━━━━━━━━━\u001B[0m\u001B[37m\u001B[0m \u001B[1m0s\u001B[0m 4ms/step - accuracy: 0.6713 - loss: 0.9912 - val_accuracy: 0.5333 - val_loss: 1.1391\n",
      "Epoch 38/100\n",
      "\u001B[1m17/17\u001B[0m \u001B[32m━━━━━━━━━━━━━━━━━━━━\u001B[0m\u001B[37m\u001B[0m \u001B[1m0s\u001B[0m 4ms/step - accuracy: 0.6772 - loss: 0.9749 - val_accuracy: 0.5500 - val_loss: 1.1221\n",
      "Epoch 39/100\n",
      "\u001B[1m17/17\u001B[0m \u001B[32m━━━━━━━━━━━━━━━━━━━━\u001B[0m\u001B[37m\u001B[0m \u001B[1m0s\u001B[0m 4ms/step - accuracy: 0.6793 - loss: 0.9593 - val_accuracy: 0.5583 - val_loss: 1.1090\n",
      "Epoch 40/100\n",
      "\u001B[1m17/17\u001B[0m \u001B[32m━━━━━━━━━━━━━━━━━━━━\u001B[0m\u001B[37m\u001B[0m \u001B[1m0s\u001B[0m 4ms/step - accuracy: 0.6885 - loss: 0.9446 - val_accuracy: 0.5750 - val_loss: 1.0953\n",
      "Epoch 41/100\n",
      "\u001B[1m17/17\u001B[0m \u001B[32m━━━━━━━━━━━━━━━━━━━━\u001B[0m\u001B[37m\u001B[0m \u001B[1m0s\u001B[0m 4ms/step - accuracy: 0.6996 - loss: 0.9300 - val_accuracy: 0.5833 - val_loss: 1.0802\n",
      "Epoch 42/100\n",
      "\u001B[1m17/17\u001B[0m \u001B[32m━━━━━━━━━━━━━━━━━━━━\u001B[0m\u001B[37m\u001B[0m \u001B[1m0s\u001B[0m 4ms/step - accuracy: 0.7084 - loss: 0.9157 - val_accuracy: 0.5833 - val_loss: 1.0672\n",
      "Epoch 43/100\n",
      "\u001B[1m17/17\u001B[0m \u001B[32m━━━━━━━━━━━━━━━━━━━━\u001B[0m\u001B[37m\u001B[0m \u001B[1m0s\u001B[0m 4ms/step - accuracy: 0.7115 - loss: 0.9021 - val_accuracy: 0.5833 - val_loss: 1.0559\n",
      "Epoch 44/100\n",
      "\u001B[1m17/17\u001B[0m \u001B[32m━━━━━━━━━━━━━━━━━━━━\u001B[0m\u001B[37m\u001B[0m \u001B[1m0s\u001B[0m 4ms/step - accuracy: 0.7161 - loss: 0.8891 - val_accuracy: 0.5833 - val_loss: 1.0451\n",
      "Epoch 45/100\n",
      "\u001B[1m17/17\u001B[0m \u001B[32m━━━━━━━━━━━━━━━━━━━━\u001B[0m\u001B[37m\u001B[0m \u001B[1m0s\u001B[0m 4ms/step - accuracy: 0.7200 - loss: 0.8762 - val_accuracy: 0.5833 - val_loss: 1.0338\n",
      "Epoch 46/100\n",
      "\u001B[1m17/17\u001B[0m \u001B[32m━━━━━━━━━━━━━━━━━━━━\u001B[0m\u001B[37m\u001B[0m \u001B[1m0s\u001B[0m 5ms/step - accuracy: 0.7188 - loss: 0.8641 - val_accuracy: 0.5833 - val_loss: 1.0241\n",
      "Epoch 47/100\n",
      "\u001B[1m17/17\u001B[0m \u001B[32m━━━━━━━━━━━━━━━━━━━━\u001B[0m\u001B[37m\u001B[0m \u001B[1m0s\u001B[0m 4ms/step - accuracy: 0.7304 - loss: 0.8524 - val_accuracy: 0.5833 - val_loss: 1.0131\n",
      "Epoch 48/100\n",
      "\u001B[1m17/17\u001B[0m \u001B[32m━━━━━━━━━━━━━━━━━━━━\u001B[0m\u001B[37m\u001B[0m \u001B[1m0s\u001B[0m 4ms/step - accuracy: 0.7348 - loss: 0.8406 - val_accuracy: 0.5917 - val_loss: 1.0043\n",
      "Epoch 49/100\n",
      "\u001B[1m17/17\u001B[0m \u001B[32m━━━━━━━━━━━━━━━━━━━━\u001B[0m\u001B[37m\u001B[0m \u001B[1m0s\u001B[0m 4ms/step - accuracy: 0.7358 - loss: 0.8294 - val_accuracy: 0.6000 - val_loss: 0.9936\n",
      "Epoch 50/100\n",
      "\u001B[1m17/17\u001B[0m \u001B[32m━━━━━━━━━━━━━━━━━━━━\u001B[0m\u001B[37m\u001B[0m \u001B[1m0s\u001B[0m 4ms/step - accuracy: 0.7417 - loss: 0.8184 - val_accuracy: 0.6083 - val_loss: 0.9848\n",
      "Epoch 51/100\n",
      "\u001B[1m17/17\u001B[0m \u001B[32m━━━━━━━━━━━━━━━━━━━━\u001B[0m\u001B[37m\u001B[0m \u001B[1m0s\u001B[0m 4ms/step - accuracy: 0.7426 - loss: 0.8071 - val_accuracy: 0.6167 - val_loss: 0.9747\n",
      "Epoch 52/100\n",
      "\u001B[1m17/17\u001B[0m \u001B[32m━━━━━━━━━━━━━━━━━━━━\u001B[0m\u001B[37m\u001B[0m \u001B[1m0s\u001B[0m 4ms/step - accuracy: 0.7459 - loss: 0.7960 - val_accuracy: 0.6250 - val_loss: 0.9658\n",
      "Epoch 53/100\n",
      "\u001B[1m17/17\u001B[0m \u001B[32m━━━━━━━━━━━━━━━━━━━━\u001B[0m\u001B[37m\u001B[0m \u001B[1m0s\u001B[0m 4ms/step - accuracy: 0.7518 - loss: 0.7853 - val_accuracy: 0.6250 - val_loss: 0.9570\n",
      "Epoch 54/100\n",
      "\u001B[1m17/17\u001B[0m \u001B[32m━━━━━━━━━━━━━━━━━━━━\u001B[0m\u001B[37m\u001B[0m \u001B[1m0s\u001B[0m 4ms/step - accuracy: 0.7602 - loss: 0.7749 - val_accuracy: 0.6250 - val_loss: 0.9484\n",
      "Epoch 55/100\n",
      "\u001B[1m17/17\u001B[0m \u001B[32m━━━━━━━━━━━━━━━━━━━━\u001B[0m\u001B[37m\u001B[0m \u001B[1m0s\u001B[0m 5ms/step - accuracy: 0.7711 - loss: 0.7650 - val_accuracy: 0.6250 - val_loss: 0.9400\n",
      "Epoch 56/100\n",
      "\u001B[1m17/17\u001B[0m \u001B[32m━━━━━━━━━━━━━━━━━━━━\u001B[0m\u001B[37m\u001B[0m \u001B[1m0s\u001B[0m 4ms/step - accuracy: 0.7724 - loss: 0.7550 - val_accuracy: 0.6417 - val_loss: 0.9326\n",
      "Epoch 57/100\n",
      "\u001B[1m17/17\u001B[0m \u001B[32m━━━━━━━━━━━━━━━━━━━━\u001B[0m\u001B[37m\u001B[0m \u001B[1m0s\u001B[0m 4ms/step - accuracy: 0.7722 - loss: 0.7454 - val_accuracy: 0.6417 - val_loss: 0.9239\n",
      "Epoch 58/100\n",
      "\u001B[1m17/17\u001B[0m \u001B[32m━━━━━━━━━━━━━━━━━━━━\u001B[0m\u001B[37m\u001B[0m \u001B[1m0s\u001B[0m 4ms/step - accuracy: 0.7738 - loss: 0.7363 - val_accuracy: 0.6417 - val_loss: 0.9169\n",
      "Epoch 59/100\n",
      "\u001B[1m17/17\u001B[0m \u001B[32m━━━━━━━━━━━━━━━━━━━━\u001B[0m\u001B[37m\u001B[0m \u001B[1m0s\u001B[0m 3ms/step - accuracy: 0.7753 - loss: 0.7273 - val_accuracy: 0.6500 - val_loss: 0.9087\n",
      "Epoch 60/100\n",
      "\u001B[1m17/17\u001B[0m \u001B[32m━━━━━━━━━━━━━━━━━━━━\u001B[0m\u001B[37m\u001B[0m \u001B[1m0s\u001B[0m 4ms/step - accuracy: 0.7779 - loss: 0.7187 - val_accuracy: 0.6500 - val_loss: 0.9012\n",
      "Epoch 61/100\n",
      "\u001B[1m17/17\u001B[0m \u001B[32m━━━━━━━━━━━━━━━━━━━━\u001B[0m\u001B[37m\u001B[0m \u001B[1m0s\u001B[0m 4ms/step - accuracy: 0.7779 - loss: 0.7098 - val_accuracy: 0.6500 - val_loss: 0.8937\n",
      "Epoch 62/100\n",
      "\u001B[1m17/17\u001B[0m \u001B[32m━━━━━━━━━━━━━━━━━━━━\u001B[0m\u001B[37m\u001B[0m \u001B[1m0s\u001B[0m 4ms/step - accuracy: 0.7816 - loss: 0.7014 - val_accuracy: 0.6583 - val_loss: 0.8858\n",
      "Epoch 63/100\n",
      "\u001B[1m17/17\u001B[0m \u001B[32m━━━━━━━━━━━━━━━━━━━━\u001B[0m\u001B[37m\u001B[0m \u001B[1m0s\u001B[0m 4ms/step - accuracy: 0.7839 - loss: 0.6931 - val_accuracy: 0.6667 - val_loss: 0.8791\n",
      "Epoch 64/100\n",
      "\u001B[1m17/17\u001B[0m \u001B[32m━━━━━━━━━━━━━━━━━━━━\u001B[0m\u001B[37m\u001B[0m \u001B[1m0s\u001B[0m 4ms/step - accuracy: 0.7850 - loss: 0.6851 - val_accuracy: 0.6667 - val_loss: 0.8718\n",
      "Epoch 65/100\n",
      "\u001B[1m17/17\u001B[0m \u001B[32m━━━━━━━━━━━━━━━━━━━━\u001B[0m\u001B[37m\u001B[0m \u001B[1m0s\u001B[0m 4ms/step - accuracy: 0.7857 - loss: 0.6775 - val_accuracy: 0.6750 - val_loss: 0.8649\n",
      "Epoch 66/100\n",
      "\u001B[1m17/17\u001B[0m \u001B[32m━━━━━━━━━━━━━━━━━━━━\u001B[0m\u001B[37m\u001B[0m \u001B[1m0s\u001B[0m 4ms/step - accuracy: 0.7886 - loss: 0.6698 - val_accuracy: 0.6750 - val_loss: 0.8581\n",
      "Epoch 67/100\n",
      "\u001B[1m17/17\u001B[0m \u001B[32m━━━━━━━━━━━━━━━━━━━━\u001B[0m\u001B[37m\u001B[0m \u001B[1m0s\u001B[0m 3ms/step - accuracy: 0.7923 - loss: 0.6625 - val_accuracy: 0.6750 - val_loss: 0.8515\n",
      "Epoch 68/100\n",
      "\u001B[1m17/17\u001B[0m \u001B[32m━━━━━━━━━━━━━━━━━━━━\u001B[0m\u001B[37m\u001B[0m \u001B[1m0s\u001B[0m 4ms/step - accuracy: 0.7963 - loss: 0.6553 - val_accuracy: 0.6917 - val_loss: 0.8447\n",
      "Epoch 69/100\n",
      "\u001B[1m17/17\u001B[0m \u001B[32m━━━━━━━━━━━━━━━━━━━━\u001B[0m\u001B[37m\u001B[0m \u001B[1m0s\u001B[0m 4ms/step - accuracy: 0.7987 - loss: 0.6483 - val_accuracy: 0.6917 - val_loss: 0.8385\n",
      "Epoch 70/100\n",
      "\u001B[1m17/17\u001B[0m \u001B[32m━━━━━━━━━━━━━━━━━━━━\u001B[0m\u001B[37m\u001B[0m \u001B[1m0s\u001B[0m 4ms/step - accuracy: 0.7987 - loss: 0.6414 - val_accuracy: 0.7000 - val_loss: 0.8322\n",
      "Epoch 71/100\n",
      "\u001B[1m17/17\u001B[0m \u001B[32m━━━━━━━━━━━━━━━━━━━━\u001B[0m\u001B[37m\u001B[0m \u001B[1m0s\u001B[0m 4ms/step - accuracy: 0.7998 - loss: 0.6346 - val_accuracy: 0.7000 - val_loss: 0.8256\n",
      "Epoch 72/100\n",
      "\u001B[1m17/17\u001B[0m \u001B[32m━━━━━━━━━━━━━━━━━━━━\u001B[0m\u001B[37m\u001B[0m \u001B[1m0s\u001B[0m 3ms/step - accuracy: 0.8007 - loss: 0.6277 - val_accuracy: 0.7000 - val_loss: 0.8195\n",
      "Epoch 73/100\n",
      "\u001B[1m17/17\u001B[0m \u001B[32m━━━━━━━━━━━━━━━━━━━━\u001B[0m\u001B[37m\u001B[0m \u001B[1m0s\u001B[0m 4ms/step - accuracy: 0.8013 - loss: 0.6212 - val_accuracy: 0.7000 - val_loss: 0.8133\n",
      "Epoch 74/100\n",
      "\u001B[1m17/17\u001B[0m \u001B[32m━━━━━━━━━━━━━━━━━━━━\u001B[0m\u001B[37m\u001B[0m \u001B[1m0s\u001B[0m 4ms/step - accuracy: 0.8034 - loss: 0.6146 - val_accuracy: 0.7000 - val_loss: 0.8078\n",
      "Epoch 75/100\n",
      "\u001B[1m17/17\u001B[0m \u001B[32m━━━━━━━━━━━━━━━━━━━━\u001B[0m\u001B[37m\u001B[0m \u001B[1m0s\u001B[0m 4ms/step - accuracy: 0.8035 - loss: 0.6080 - val_accuracy: 0.7000 - val_loss: 0.8027\n",
      "Epoch 76/100\n",
      "\u001B[1m17/17\u001B[0m \u001B[32m━━━━━━━━━━━━━━━━━━━━\u001B[0m\u001B[37m\u001B[0m \u001B[1m0s\u001B[0m 4ms/step - accuracy: 0.8093 - loss: 0.6021 - val_accuracy: 0.7083 - val_loss: 0.7966\n",
      "Epoch 77/100\n",
      "\u001B[1m17/17\u001B[0m \u001B[32m━━━━━━━━━━━━━━━━━━━━\u001B[0m\u001B[37m\u001B[0m \u001B[1m0s\u001B[0m 4ms/step - accuracy: 0.8147 - loss: 0.5958 - val_accuracy: 0.7167 - val_loss: 0.7913\n",
      "Epoch 78/100\n",
      "\u001B[1m17/17\u001B[0m \u001B[32m━━━━━━━━━━━━━━━━━━━━\u001B[0m\u001B[37m\u001B[0m \u001B[1m0s\u001B[0m 4ms/step - accuracy: 0.8204 - loss: 0.5897 - val_accuracy: 0.7167 - val_loss: 0.7860\n",
      "Epoch 79/100\n",
      "\u001B[1m17/17\u001B[0m \u001B[32m━━━━━━━━━━━━━━━━━━━━\u001B[0m\u001B[37m\u001B[0m \u001B[1m0s\u001B[0m 4ms/step - accuracy: 0.8219 - loss: 0.5841 - val_accuracy: 0.7167 - val_loss: 0.7810\n",
      "Epoch 80/100\n",
      "\u001B[1m17/17\u001B[0m \u001B[32m━━━━━━━━━━━━━━━━━━━━\u001B[0m\u001B[37m\u001B[0m \u001B[1m0s\u001B[0m 4ms/step - accuracy: 0.8264 - loss: 0.5785 - val_accuracy: 0.7167 - val_loss: 0.7764\n",
      "Epoch 81/100\n",
      "\u001B[1m17/17\u001B[0m \u001B[32m━━━━━━━━━━━━━━━━━━━━\u001B[0m\u001B[37m\u001B[0m \u001B[1m0s\u001B[0m 4ms/step - accuracy: 0.8263 - loss: 0.5732 - val_accuracy: 0.7167 - val_loss: 0.7718\n",
      "Epoch 82/100\n",
      "\u001B[1m17/17\u001B[0m \u001B[32m━━━━━━━━━━━━━━━━━━━━\u001B[0m\u001B[37m\u001B[0m \u001B[1m0s\u001B[0m 4ms/step - accuracy: 0.8321 - loss: 0.5676 - val_accuracy: 0.7333 - val_loss: 0.7665\n",
      "Epoch 83/100\n",
      "\u001B[1m17/17\u001B[0m \u001B[32m━━━━━━━━━━━━━━━━━━━━\u001B[0m\u001B[37m\u001B[0m \u001B[1m0s\u001B[0m 4ms/step - accuracy: 0.8319 - loss: 0.5623 - val_accuracy: 0.7333 - val_loss: 0.7613\n",
      "Epoch 84/100\n",
      "\u001B[1m17/17\u001B[0m \u001B[32m━━━━━━━━━━━━━━━━━━━━\u001B[0m\u001B[37m\u001B[0m \u001B[1m0s\u001B[0m 4ms/step - accuracy: 0.8341 - loss: 0.5571 - val_accuracy: 0.7333 - val_loss: 0.7563\n",
      "Epoch 85/100\n",
      "\u001B[1m17/17\u001B[0m \u001B[32m━━━━━━━━━━━━━━━━━━━━\u001B[0m\u001B[37m\u001B[0m \u001B[1m0s\u001B[0m 4ms/step - accuracy: 0.8350 - loss: 0.5519 - val_accuracy: 0.7417 - val_loss: 0.7517\n",
      "Epoch 86/100\n",
      "\u001B[1m17/17\u001B[0m \u001B[32m━━━━━━━━━━━━━━━━━━━━\u001B[0m\u001B[37m\u001B[0m \u001B[1m0s\u001B[0m 3ms/step - accuracy: 0.8398 - loss: 0.5470 - val_accuracy: 0.7417 - val_loss: 0.7469\n",
      "Epoch 87/100\n",
      "\u001B[1m17/17\u001B[0m \u001B[32m━━━━━━━━━━━━━━━━━━━━\u001B[0m\u001B[37m\u001B[0m \u001B[1m0s\u001B[0m 4ms/step - accuracy: 0.8405 - loss: 0.5421 - val_accuracy: 0.7417 - val_loss: 0.7429\n",
      "Epoch 88/100\n",
      "\u001B[1m17/17\u001B[0m \u001B[32m━━━━━━━━━━━━━━━━━━━━\u001B[0m\u001B[37m\u001B[0m \u001B[1m0s\u001B[0m 4ms/step - accuracy: 0.8411 - loss: 0.5371 - val_accuracy: 0.7417 - val_loss: 0.7388\n",
      "Epoch 89/100\n",
      "\u001B[1m17/17\u001B[0m \u001B[32m━━━━━━━━━━━━━━━━━━━━\u001B[0m\u001B[37m\u001B[0m \u001B[1m0s\u001B[0m 4ms/step - accuracy: 0.8429 - loss: 0.5326 - val_accuracy: 0.7417 - val_loss: 0.7347\n",
      "Epoch 90/100\n",
      "\u001B[1m17/17\u001B[0m \u001B[32m━━━━━━━━━━━━━━━━━━━━\u001B[0m\u001B[37m\u001B[0m \u001B[1m0s\u001B[0m 3ms/step - accuracy: 0.8457 - loss: 0.5279 - val_accuracy: 0.7500 - val_loss: 0.7306\n",
      "Epoch 91/100\n",
      "\u001B[1m17/17\u001B[0m \u001B[32m━━━━━━━━━━━━━━━━━━━━\u001B[0m\u001B[37m\u001B[0m \u001B[1m0s\u001B[0m 4ms/step - accuracy: 0.8430 - loss: 0.5235 - val_accuracy: 0.7500 - val_loss: 0.7273\n",
      "Epoch 92/100\n",
      "\u001B[1m17/17\u001B[0m \u001B[32m━━━━━━━━━━━━━━━━━━━━\u001B[0m\u001B[37m\u001B[0m \u001B[1m0s\u001B[0m 4ms/step - accuracy: 0.8447 - loss: 0.5188 - val_accuracy: 0.7500 - val_loss: 0.7227\n",
      "Epoch 93/100\n",
      "\u001B[1m17/17\u001B[0m \u001B[32m━━━━━━━━━━━━━━━━━━━━\u001B[0m\u001B[37m\u001B[0m \u001B[1m0s\u001B[0m 3ms/step - accuracy: 0.8458 - loss: 0.5144 - val_accuracy: 0.7500 - val_loss: 0.7184\n",
      "Epoch 94/100\n",
      "\u001B[1m17/17\u001B[0m \u001B[32m━━━━━━━━━━━━━━━━━━━━\u001B[0m\u001B[37m\u001B[0m \u001B[1m0s\u001B[0m 3ms/step - accuracy: 0.8459 - loss: 0.5101 - val_accuracy: 0.7500 - val_loss: 0.7147\n",
      "Epoch 95/100\n",
      "\u001B[1m17/17\u001B[0m \u001B[32m━━━━━━━━━━━━━━━━━━━━\u001B[0m\u001B[37m\u001B[0m \u001B[1m0s\u001B[0m 4ms/step - accuracy: 0.8475 - loss: 0.5061 - val_accuracy: 0.7583 - val_loss: 0.7103\n",
      "Epoch 96/100\n",
      "\u001B[1m17/17\u001B[0m \u001B[32m━━━━━━━━━━━━━━━━━━━━\u001B[0m\u001B[37m\u001B[0m \u001B[1m0s\u001B[0m 4ms/step - accuracy: 0.8478 - loss: 0.5024 - val_accuracy: 0.7583 - val_loss: 0.7068\n",
      "Epoch 97/100\n",
      "\u001B[1m17/17\u001B[0m \u001B[32m━━━━━━━━━━━━━━━━━━━━\u001B[0m\u001B[37m\u001B[0m \u001B[1m0s\u001B[0m 4ms/step - accuracy: 0.8497 - loss: 0.4980 - val_accuracy: 0.7583 - val_loss: 0.7030\n",
      "Epoch 98/100\n",
      "\u001B[1m17/17\u001B[0m \u001B[32m━━━━━━━━━━━━━━━━━━━━\u001B[0m\u001B[37m\u001B[0m \u001B[1m0s\u001B[0m 4ms/step - accuracy: 0.8546 - loss: 0.4942 - val_accuracy: 0.7667 - val_loss: 0.6994\n",
      "Epoch 99/100\n",
      "\u001B[1m17/17\u001B[0m \u001B[32m━━━━━━━━━━━━━━━━━━━━\u001B[0m\u001B[37m\u001B[0m \u001B[1m0s\u001B[0m 4ms/step - accuracy: 0.8548 - loss: 0.4905 - val_accuracy: 0.7667 - val_loss: 0.6955\n",
      "Epoch 100/100\n",
      "\u001B[1m17/17\u001B[0m \u001B[32m━━━━━━━━━━━━━━━━━━━━\u001B[0m\u001B[37m\u001B[0m \u001B[1m0s\u001B[0m 4ms/step - accuracy: 0.8543 - loss: 0.4866 - val_accuracy: 0.7667 - val_loss: 0.6921\n"
     ]
    }
   ],
   "execution_count": 11
  },
  {
   "cell_type": "markdown",
   "metadata": {},
   "source": [
    "<a name='5'></a>\n",
    "## 5 - History Object \n",
    "\n",
    "The history object is an output of the `.fit()` operation, and provides a record of all the loss and metric values in memory. It's stored as a dictionary that you can retrieve at `history.history`: "
   ]
  },
  {
   "cell_type": "code",
   "metadata": {
    "ExecuteTime": {
     "end_time": "2024-12-23T15:07:34.135429Z",
     "start_time": "2024-12-23T15:07:34.128214Z"
    }
   },
   "source": [
    "history.history"
   ],
   "outputs": [
    {
     "data": {
      "text/plain": [
       "{'accuracy': [0.1666666716337204,\n",
       "  0.125,\n",
       "  0.16388888657093048,\n",
       "  0.19814814627170563,\n",
       "  0.24259258806705475,\n",
       "  0.25648146867752075,\n",
       "  0.2648148238658905,\n",
       "  0.3037036955356598,\n",
       "  0.32685184478759766,\n",
       "  0.32499998807907104,\n",
       "  0.364814817905426,\n",
       "  0.39259257912635803,\n",
       "  0.4055555462837219,\n",
       "  0.40925925970077515,\n",
       "  0.42500001192092896,\n",
       "  0.4435185194015503,\n",
       "  0.4481481611728668,\n",
       "  0.46203702688217163,\n",
       "  0.47777777910232544,\n",
       "  0.4851851761341095,\n",
       "  0.5027777552604675,\n",
       "  0.5166666507720947,\n",
       "  0.5231481194496155,\n",
       "  0.5342592597007751,\n",
       "  0.5435185432434082,\n",
       "  0.5620370507240295,\n",
       "  0.5787037014961243,\n",
       "  0.5861111283302307,\n",
       "  0.6000000238418579,\n",
       "  0.6074073910713196,\n",
       "  0.6129629611968994,\n",
       "  0.6240741014480591,\n",
       "  0.6305555701255798,\n",
       "  0.6388888955116272,\n",
       "  0.6462963223457336,\n",
       "  0.6537036895751953,\n",
       "  0.6574074029922485,\n",
       "  0.6611111164093018,\n",
       "  0.6675925850868225,\n",
       "  0.6740740537643433,\n",
       "  0.6842592358589172,\n",
       "  0.6953703761100769,\n",
       "  0.6990740895271301,\n",
       "  0.7055555582046509,\n",
       "  0.710185170173645,\n",
       "  0.7120370268821716,\n",
       "  0.7194444537162781,\n",
       "  0.7268518805503845,\n",
       "  0.7287036776542664,\n",
       "  0.7351852059364319,\n",
       "  0.7351852059364319,\n",
       "  0.7370370626449585,\n",
       "  0.7435185313224792,\n",
       "  0.7518518567085266,\n",
       "  0.7620370388031006,\n",
       "  0.7638888955116272,\n",
       "  0.7629629373550415,\n",
       "  0.7638888955116272,\n",
       "  0.7666666507720947,\n",
       "  0.769444465637207,\n",
       "  0.7712963223457336,\n",
       "  0.7740740776062012,\n",
       "  0.7787036895751953,\n",
       "  0.7805555462837219,\n",
       "  0.7824074029922485,\n",
       "  0.7861111164093018,\n",
       "  0.7925925850868225,\n",
       "  0.7953703999519348,\n",
       "  0.7972221970558167,\n",
       "  0.7972221970558167,\n",
       "  0.7981481552124023,\n",
       "  0.8009259104728699,\n",
       "  0.8018518686294556,\n",
       "  0.8055555820465088,\n",
       "  0.8055555820465088,\n",
       "  0.8101851940155029,\n",
       "  0.8129629492759705,\n",
       "  0.8185185194015503,\n",
       "  0.8212962746620178,\n",
       "  0.8259259462356567,\n",
       "  0.8259259462356567,\n",
       "  0.8296296000480652,\n",
       "  0.8296296000480652,\n",
       "  0.8314814567565918,\n",
       "  0.8324074149131775,\n",
       "  0.8342592716217041,\n",
       "  0.8361111283302307,\n",
       "  0.8379629850387573,\n",
       "  0.8398148417472839,\n",
       "  0.8416666388511658,\n",
       "  0.8416666388511658,\n",
       "  0.8435184955596924,\n",
       "  0.8444444537162781,\n",
       "  0.8444444537162781,\n",
       "  0.8462963104248047,\n",
       "  0.8481481671333313,\n",
       "  0.8509259223937988,\n",
       "  0.8537036776542664,\n",
       "  0.854629635810852,\n",
       "  0.854629635810852],\n",
       " 'loss': [1.8757621049880981,\n",
       "  1.7937798500061035,\n",
       "  1.7877898216247559,\n",
       "  1.7822033166885376,\n",
       "  1.7772291898727417,\n",
       "  1.7718632221221924,\n",
       "  1.7651790380477905,\n",
       "  1.758132815361023,\n",
       "  1.7491174936294556,\n",
       "  1.7350138425827026,\n",
       "  1.7147020101547241,\n",
       "  1.6904793977737427,\n",
       "  1.6621930599212646,\n",
       "  1.63008713722229,\n",
       "  1.5914585590362549,\n",
       "  1.5511962175369263,\n",
       "  1.5095115900039673,\n",
       "  1.4694031476974487,\n",
       "  1.4317071437835693,\n",
       "  1.396050214767456,\n",
       "  1.3627716302871704,\n",
       "  1.3324092626571655,\n",
       "  1.304457664489746,\n",
       "  1.2787137031555176,\n",
       "  1.2530343532562256,\n",
       "  1.228505253791809,\n",
       "  1.2062511444091797,\n",
       "  1.1837340593338013,\n",
       "  1.1622602939605713,\n",
       "  1.1419179439544678,\n",
       "  1.121644139289856,\n",
       "  1.1026337146759033,\n",
       "  1.0838522911071777,\n",
       "  1.0663721561431885,\n",
       "  1.0483150482177734,\n",
       "  1.0307281017303467,\n",
       "  1.0139554738998413,\n",
       "  0.9973098039627075,\n",
       "  0.9814194440841675,\n",
       "  0.9665043354034424,\n",
       "  0.9514623284339905,\n",
       "  0.9367934465408325,\n",
       "  0.9231629967689514,\n",
       "  0.9098285436630249,\n",
       "  0.896623969078064,\n",
       "  0.8845619559288025,\n",
       "  0.8722808361053467,\n",
       "  0.8601778745651245,\n",
       "  0.8489245772361755,\n",
       "  0.8379145860671997,\n",
       "  0.826157808303833,\n",
       "  0.8150714039802551,\n",
       "  0.8042565584182739,\n",
       "  0.7936538457870483,\n",
       "  0.7833717465400696,\n",
       "  0.7730576395988464,\n",
       "  0.7634149789810181,\n",
       "  0.7542904019355774,\n",
       "  0.7450459003448486,\n",
       "  0.7362639904022217,\n",
       "  0.7271338701248169,\n",
       "  0.7186304926872253,\n",
       "  0.7101805806159973,\n",
       "  0.7021453976631165,\n",
       "  0.6942710280418396,\n",
       "  0.6865065693855286,\n",
       "  0.6789830327033997,\n",
       "  0.6715764999389648,\n",
       "  0.6642566919326782,\n",
       "  0.657243013381958,\n",
       "  0.6499534249305725,\n",
       "  0.6430739164352417,\n",
       "  0.6362756490707397,\n",
       "  0.62947016954422,\n",
       "  0.6229419708251953,\n",
       "  0.6167333126068115,\n",
       "  0.6101014018058777,\n",
       "  0.6040294766426086,\n",
       "  0.5982016921043396,\n",
       "  0.5925408601760864,\n",
       "  0.5869137644767761,\n",
       "  0.5810819268226624,\n",
       "  0.5758042335510254,\n",
       "  0.5704737305641174,\n",
       "  0.565138578414917,\n",
       "  0.5599698424339294,\n",
       "  0.5549028515815735,\n",
       "  0.5496286153793335,\n",
       "  0.545041024684906,\n",
       "  0.5400484204292297,\n",
       "  0.535440981388092,\n",
       "  0.5304656624794006,\n",
       "  0.5259764790534973,\n",
       "  0.521554172039032,\n",
       "  0.5174920558929443,\n",
       "  0.5134726166725159,\n",
       "  0.5089051127433777,\n",
       "  0.5050739049911499,\n",
       "  0.5012186765670776,\n",
       "  0.4970506429672241],\n",
       " 'val_accuracy': [0.15833333134651184,\n",
       "  0.14166666567325592,\n",
       "  0.15833333134651184,\n",
       "  0.2083333283662796,\n",
       "  0.2083333283662796,\n",
       "  0.2083333283662796,\n",
       "  0.2666666805744171,\n",
       "  0.25833332538604736,\n",
       "  0.34166666865348816,\n",
       "  0.3333333432674408,\n",
       "  0.375,\n",
       "  0.3499999940395355,\n",
       "  0.3916666805744171,\n",
       "  0.3916666805744171,\n",
       "  0.40833333134651184,\n",
       "  0.40833333134651184,\n",
       "  0.4333333373069763,\n",
       "  0.42500001192092896,\n",
       "  0.4333333373069763,\n",
       "  0.4166666567325592,\n",
       "  0.4333333373069763,\n",
       "  0.4416666626930237,\n",
       "  0.44999998807907104,\n",
       "  0.4333333373069763,\n",
       "  0.44999998807907104,\n",
       "  0.46666666865348816,\n",
       "  0.4583333432674408,\n",
       "  0.46666666865348816,\n",
       "  0.4833333194255829,\n",
       "  0.4833333194255829,\n",
       "  0.4833333194255829,\n",
       "  0.4833333194255829,\n",
       "  0.49166667461395264,\n",
       "  0.5416666865348816,\n",
       "  0.550000011920929,\n",
       "  0.5416666865348816,\n",
       "  0.5333333611488342,\n",
       "  0.550000011920929,\n",
       "  0.5583333373069763,\n",
       "  0.574999988079071,\n",
       "  0.5833333134651184,\n",
       "  0.5833333134651184,\n",
       "  0.5833333134651184,\n",
       "  0.5833333134651184,\n",
       "  0.5833333134651184,\n",
       "  0.5833333134651184,\n",
       "  0.5833333134651184,\n",
       "  0.5916666388511658,\n",
       "  0.6000000238418579,\n",
       "  0.6083333492279053,\n",
       "  0.6166666746139526,\n",
       "  0.625,\n",
       "  0.625,\n",
       "  0.625,\n",
       "  0.625,\n",
       "  0.6416666507720947,\n",
       "  0.6416666507720947,\n",
       "  0.6416666507720947,\n",
       "  0.6499999761581421,\n",
       "  0.6499999761581421,\n",
       "  0.6499999761581421,\n",
       "  0.6583333611488342,\n",
       "  0.6666666865348816,\n",
       "  0.6666666865348816,\n",
       "  0.675000011920929,\n",
       "  0.675000011920929,\n",
       "  0.675000011920929,\n",
       "  0.6916666626930237,\n",
       "  0.6916666626930237,\n",
       "  0.699999988079071,\n",
       "  0.699999988079071,\n",
       "  0.699999988079071,\n",
       "  0.699999988079071,\n",
       "  0.699999988079071,\n",
       "  0.699999988079071,\n",
       "  0.7083333134651184,\n",
       "  0.7166666388511658,\n",
       "  0.7166666388511658,\n",
       "  0.7166666388511658,\n",
       "  0.7166666388511658,\n",
       "  0.7166666388511658,\n",
       "  0.7333333492279053,\n",
       "  0.7333333492279053,\n",
       "  0.7333333492279053,\n",
       "  0.7416666746139526,\n",
       "  0.7416666746139526,\n",
       "  0.7416666746139526,\n",
       "  0.7416666746139526,\n",
       "  0.7416666746139526,\n",
       "  0.75,\n",
       "  0.75,\n",
       "  0.75,\n",
       "  0.75,\n",
       "  0.75,\n",
       "  0.7583333253860474,\n",
       "  0.7583333253860474,\n",
       "  0.7583333253860474,\n",
       "  0.7666666507720947,\n",
       "  0.7666666507720947,\n",
       "  0.7666666507720947],\n",
       " 'val_loss': [1.8055338859558105,\n",
       "  1.7957284450531006,\n",
       "  1.7900406122207642,\n",
       "  1.7855026721954346,\n",
       "  1.7825151681900024,\n",
       "  1.7776345014572144,\n",
       "  1.7723181247711182,\n",
       "  1.766986608505249,\n",
       "  1.7596479654312134,\n",
       "  1.7457712888717651,\n",
       "  1.7298649549484253,\n",
       "  1.7109397649765015,\n",
       "  1.6882368326187134,\n",
       "  1.659071683883667,\n",
       "  1.6265926361083984,\n",
       "  1.5941736698150635,\n",
       "  1.5633506774902344,\n",
       "  1.5299865007400513,\n",
       "  1.5028812885284424,\n",
       "  1.4743233919143677,\n",
       "  1.447575330734253,\n",
       "  1.4231549501419067,\n",
       "  1.3991048336029053,\n",
       "  1.3763045072555542,\n",
       "  1.3551363945007324,\n",
       "  1.335234522819519,\n",
       "  1.3158745765686035,\n",
       "  1.2965083122253418,\n",
       "  1.2763020992279053,\n",
       "  1.2602516412734985,\n",
       "  1.2412865161895752,\n",
       "  1.224685788154602,\n",
       "  1.2068485021591187,\n",
       "  1.190264344215393,\n",
       "  1.170965313911438,\n",
       "  1.154969573020935,\n",
       "  1.1391085386276245,\n",
       "  1.1221354007720947,\n",
       "  1.1090131998062134,\n",
       "  1.095339059829712,\n",
       "  1.0801923274993896,\n",
       "  1.0672497749328613,\n",
       "  1.0559368133544922,\n",
       "  1.0450831651687622,\n",
       "  1.0338095426559448,\n",
       "  1.0240626335144043,\n",
       "  1.0130925178527832,\n",
       "  1.004317045211792,\n",
       "  0.9936225414276123,\n",
       "  0.9847716093063354,\n",
       "  0.9747218489646912,\n",
       "  0.9658221006393433,\n",
       "  0.9570118188858032,\n",
       "  0.9484388828277588,\n",
       "  0.9400394558906555,\n",
       "  0.9326330423355103,\n",
       "  0.9238698482513428,\n",
       "  0.9169405102729797,\n",
       "  0.9087206721305847,\n",
       "  0.9012243747711182,\n",
       "  0.8936684727668762,\n",
       "  0.8858374357223511,\n",
       "  0.8791190385818481,\n",
       "  0.8717998266220093,\n",
       "  0.864861786365509,\n",
       "  0.8580929040908813,\n",
       "  0.8514600396156311,\n",
       "  0.8447387218475342,\n",
       "  0.838535487651825,\n",
       "  0.8321831226348877,\n",
       "  0.8256092071533203,\n",
       "  0.819546103477478,\n",
       "  0.8132951855659485,\n",
       "  0.8078440427780151,\n",
       "  0.8026673793792725,\n",
       "  0.7965545654296875,\n",
       "  0.7913421392440796,\n",
       "  0.7860345244407654,\n",
       "  0.7810131907463074,\n",
       "  0.7763903141021729,\n",
       "  0.7717956900596619,\n",
       "  0.7664901614189148,\n",
       "  0.7612711191177368,\n",
       "  0.7563089728355408,\n",
       "  0.751717746257782,\n",
       "  0.7469114661216736,\n",
       "  0.7428629398345947,\n",
       "  0.7388492226600647,\n",
       "  0.7346966862678528,\n",
       "  0.730622410774231,\n",
       "  0.7273067235946655,\n",
       "  0.7226600646972656,\n",
       "  0.7183598279953003,\n",
       "  0.7146827578544617,\n",
       "  0.7103102207183838,\n",
       "  0.7067776918411255,\n",
       "  0.7029537558555603,\n",
       "  0.6993995308876038,\n",
       "  0.6954593658447266,\n",
       "  0.6921196579933167]}"
      ]
     },
     "execution_count": 12,
     "metadata": {},
     "output_type": "execute_result"
    }
   ],
   "execution_count": 12
  },
  {
   "cell_type": "markdown",
   "metadata": {},
   "source": [
    "Now visualize the loss over time using `history.history`: "
   ]
  },
  {
   "cell_type": "code",
   "metadata": {
    "ExecuteTime": {
     "end_time": "2024-12-23T15:07:38.666410Z",
     "start_time": "2024-12-23T15:07:38.435592Z"
    }
   },
   "source": [
    "# The history.history[\"loss\"] entry is a dictionary with as many values as epochs that the\n",
    "# model was trained on. \n",
    "df_loss_acc = pd.DataFrame(history.history)\n",
    "df_loss= df_loss_acc[['loss','val_loss']]\n",
    "df_loss.rename(columns={'loss':'train','val_loss':'validation'},inplace=True)\n",
    "df_acc= df_loss_acc[['accuracy','val_accuracy']]\n",
    "df_acc.rename(columns={'accuracy':'train','val_accuracy':'validation'},inplace=True)\n",
    "df_loss.plot(title='Model loss',figsize=(12,8)).set(xlabel='Epoch',ylabel='Loss')\n",
    "df_acc.plot(title='Model Accuracy',figsize=(12,8)).set(xlabel='Epoch',ylabel='Accuracy')"
   ],
   "outputs": [
    {
     "name": "stderr",
     "output_type": "stream",
     "text": [
      "C:\\Users\\vach04\\AppData\\Local\\Temp\\ipykernel_58248\\3431861191.py:5: SettingWithCopyWarning: \n",
      "A value is trying to be set on a copy of a slice from a DataFrame\n",
      "\n",
      "See the caveats in the documentation: https://pandas.pydata.org/pandas-docs/stable/user_guide/indexing.html#returning-a-view-versus-a-copy\n",
      "  df_loss.rename(columns={'loss':'train','val_loss':'validation'},inplace=True)\n",
      "C:\\Users\\vach04\\AppData\\Local\\Temp\\ipykernel_58248\\3431861191.py:7: SettingWithCopyWarning: \n",
      "A value is trying to be set on a copy of a slice from a DataFrame\n",
      "\n",
      "See the caveats in the documentation: https://pandas.pydata.org/pandas-docs/stable/user_guide/indexing.html#returning-a-view-versus-a-copy\n",
      "  df_acc.rename(columns={'accuracy':'train','val_accuracy':'validation'},inplace=True)\n"
     ]
    },
    {
     "data": {
      "text/plain": [
       "[Text(0.5, 0, 'Epoch'), Text(0, 0.5, 'Accuracy')]"
      ]
     },
     "execution_count": 13,
     "metadata": {},
     "output_type": "execute_result"
    },
    {
     "data": {
      "text/plain": [
       "<Figure size 1200x800 with 1 Axes>"
      ],
      "image/png": "[encoded data removed]"
     },
     "metadata": {},
     "output_type": "display_data"
    },
    {
     "data": {
      "text/plain": [
       "<Figure size 1200x800 with 1 Axes>"
      ],
      "image/png": "[encoded data removed]"
     },
     "metadata": {},
     "output_type": "display_data"
    }
   ],
   "execution_count": 13
  },
  {
   "cell_type": "markdown",
   "metadata": {},
   "source": [
    "**Congratulations**! You've finished the assignment and built two models: One that recognizes  smiles, and another that recognizes SIGN language with almost 80% accuracy on the test set. In addition to that, you now also understand the applications of two Keras APIs: Sequential and Functional. Nicely done! \n",
    "\n",
    "By now, you know a bit about how the Functional API works and may have glimpsed the possibilities. In your next assignment, you'll really get a feel for its power when you get the opportunity to build a very deep ConvNet, using ResNets! "
   ]
  },
  {
   "cell_type": "markdown",
   "metadata": {},
   "source": [
    "<a name='6'></a>\n",
    "## 6 - Bibliography\n",
    "\n",
    "You're always encouraged to read the official documentation. To that end, you can find the docs for the Sequential and Functional APIs here: \n",
    "\n",
    "https://www.tensorflow.org/guide/keras/sequential_model\n",
    "\n",
    "https://www.tensorflow.org/guide/keras/functional"
   ]
  },
  {
   "metadata": {},
   "cell_type": "code",
   "source": "",
   "outputs": [],
   "execution_count": null
  },
  {
   "metadata": {},
   "cell_type": "code",
   "source": "",
   "outputs": [],
   "execution_count": null
  },
  {
   "metadata": {},
   "cell_type": "code",
   "source": "",
   "outputs": [],
   "execution_count": null
  },
  {
   "metadata": {},
   "cell_type": "code",
   "outputs": [],
   "execution_count": null,
   "source": ""
  }
 ],
 "metadata": {
  "coursera": {
   "course_slug": "convolutional-neural-networks",
   "graded_item_id": "bwbJV",
   "launcher_item_id": "0TkXB"
  },
  "kernelspec": {
   "display_name": "Python 3",
   "language": "python",
   "name": "python3"
  },
  "language_info": {
   "codemirror_mode": {
    "name": "ipython",
    "version": 3
   },
   "file_extension": ".py",
   "mimetype": "text/x-python",
   "name": "python",
   "nbconvert_exporter": "python",
   "pygments_lexer": "ipython3",
   "version": "3.7.6"
  }
 },
 "nbformat": 4,
 "nbformat_minor": 2
}
